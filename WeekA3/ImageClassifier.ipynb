{
 "cells": [
  {
   "cell_type": "markdown",
   "metadata": {
    "id": "x4HI2mpwlrcn",
    "pycharm": {
     "name": "#%% md\n"
    }
   },
   "source": [
    "# Build a simple image classifier from a standard dataset\n",
    "Adapted from https://www.tensorflow.org/tutorials/images/cnn"
   ]
  },
  {
   "cell_type": "markdown",
   "metadata": {
    "id": "qLGkt5qiyz4E",
    "pycharm": {
     "name": "#%% md\n"
    }
   },
   "source": [
    "This tutorial demonstrates training a simple [Convolutional Neural Network](https://developers.google.com/machine-learning/glossary/#convolutional_neural_network) (CNN) to classify [CIFAR images](https://www.cs.toronto.edu/~kriz/cifar.html). Because this tutorial uses the [Keras Sequential API](https://www.tensorflow.org/guide/keras/overview), creating and training your model will take just a few lines of code.\n"
   ]
  },
  {
   "cell_type": "markdown",
   "metadata": {
    "id": "m7KBpffWzlxH",
    "pycharm": {
     "name": "#%% md\n"
    }
   },
   "source": [
    "### Import TensorFlow"
   ]
  },
  {
   "cell_type": "markdown",
   "metadata": {
    "pycharm": {
     "name": "#%% md\n"
    }
   },
   "source": [
    "Note: The following cell will give you an error like \"No module named 'matplotlib'\" if you have not yet installed matplotlib. To install it, open up a terminal/command window, activate your environment (e.g., `conda activate coding3`), and then type `conda install matplotlib`\n",
    "\n",
    "You may have to restart the kernel if the cell does not complete running after you install.\n",
    "\n",
    "Note that you will only ever have to do this once per environment (e.g., from now on, when you run a new notebook that imports from matplotlib using this same environment, it will also be able to use that library; no need to install again)"
   ]
  },
  {
   "cell_type": "code",
   "execution_count": 2,
   "metadata": {
    "execution": {
     "iopub.execute_input": "2022-01-26T05:11:32.261134Z",
     "iopub.status.busy": "2022-01-26T05:11:32.260310Z",
     "iopub.status.idle": "2022-01-26T05:11:34.742110Z",
     "shell.execute_reply": "2022-01-26T05:11:34.741254Z"
    },
    "id": "iAve6DCL4JH4",
    "pycharm": {
     "name": "#%%\n"
    }
   },
   "outputs": [],
   "source": [
    "import tensorflow as tf\n",
    "\n",
    "from tensorflow.keras import datasets, layers, models\n",
    "import matplotlib.pyplot as plt\n",
    "from tensorflow.keras.optimizers.legacy import Adam\n",
    "# from utils import generate_ds\n",
    "\n",
    "import numpy as np\n",
    "\n",
    "from PIL import Image\n",
    "\n",
    "root_path = \"micro/\""
   ]
  },
  {
   "cell_type": "code",
   "execution_count": 3,
   "metadata": {
    "pycharm": {
     "name": "#%%\n"
    }
   },
   "outputs": [],
   "source": [
    "def read_resize_image(path):\n",
    "    # read image from path and resize the image to 255*255, return as numpy array\n",
    "    img = Image.open(path)\n",
    "    img = img.resize((256, 256))\n",
    "    img_array = np.array(img).tolist()\n",
    "    return img_array"
   ]
  },
  {
   "cell_type": "code",
   "execution_count": 4,
   "metadata": {
    "pycharm": {
     "name": "#%%\n"
    }
   },
   "outputs": [
    {
     "name": "stdout",
     "output_type": "stream",
     "text": [
      "Found 714 images belonging to 8 classes.\n",
      "Found 75 images belonging to 8 classes.\n"
     ]
    }
   ],
   "source": [
    "from sklearn.model_selection import train_test_split\n",
    "from keras.preprocessing.image import ImageDataGenerator\n",
    "\n",
    "gen = ImageDataGenerator(\n",
    "    rescale=1./255,\n",
    "    rotation_range=10,\n",
    "    horizontal_flip=True,\n",
    "    brightness_range=[0.3,0.8],\n",
    "    validation_split=0.1\n",
    ")\n",
    "\n",
    "# Load Data\n",
    "train_ds = gen.flow_from_directory(\n",
    "    root_path,\n",
    "    batch_size=64, # For better utilization of GPU, I have kept the batch size a little bit\n",
    "    shuffle=True,\n",
    "    class_mode='binary',\n",
    "    target_size=(256,256), # This image size is generally sufficient for better image classifications.\n",
    "    subset='training'\n",
    ")\n",
    "\n",
    "test_ds = gen.flow_from_directory(\n",
    "    root_path,\n",
    "    batch_size=64, # For faster inference, the batch size here is small.\n",
    "    shuffle=True,\n",
    "    class_mode='binary',\n",
    "    target_size=(256,256), # This image size is generally sufficient for better image classifications.\n",
    "    subset='validation'\n",
    ")\n",
    "\n",
    "x_train, y_train = train_ds.next()\n",
    "x_test, y_test = test_ds.next()"
   ]
  },
  {
   "cell_type": "code",
   "execution_count": 5,
   "outputs": [
    {
     "data": {
      "text/plain": "array([[[[0.09803922, 0.53333336, 0.03921569],\n         [0.09803922, 0.53333336, 0.03921569],\n         [0.09803922, 0.53333336, 0.03921569],\n         ...,\n         [0.09803922, 0.53333336, 0.03921569],\n         [0.09803922, 0.53333336, 0.03921569],\n         [0.09803922, 0.53333336, 0.03921569]],\n\n        [[0.09803922, 0.53333336, 0.03921569],\n         [0.09803922, 0.53333336, 0.03921569],\n         [0.09803922, 0.53333336, 0.03921569],\n         ...,\n         [0.09803922, 0.53333336, 0.03921569],\n         [0.09803922, 0.53333336, 0.03921569],\n         [0.09803922, 0.53333336, 0.03921569]],\n\n        [[0.09803922, 0.53333336, 0.03921569],\n         [0.09803922, 0.53333336, 0.03921569],\n         [0.09803922, 0.53333336, 0.03921569],\n         ...,\n         [0.09803922, 0.53333336, 0.03921569],\n         [0.09803922, 0.53333336, 0.03921569],\n         [0.09803922, 0.53333336, 0.03921569]],\n\n        ...,\n\n        [[0.09803922, 0.53333336, 0.03921569],\n         [0.09803922, 0.53333336, 0.03921569],\n         [0.09803922, 0.53333336, 0.03921569],\n         ...,\n         [0.09803922, 0.53333336, 0.03921569],\n         [0.09803922, 0.53333336, 0.03921569],\n         [0.09803922, 0.53333336, 0.03921569]],\n\n        [[0.09803922, 0.53333336, 0.03921569],\n         [0.09803922, 0.53333336, 0.03921569],\n         [0.09803922, 0.53333336, 0.03921569],\n         ...,\n         [0.09803922, 0.53333336, 0.03921569],\n         [0.09803922, 0.53333336, 0.03921569],\n         [0.09803922, 0.53333336, 0.03921569]],\n\n        [[0.09803922, 0.53333336, 0.03921569],\n         [0.09803922, 0.53333336, 0.03921569],\n         [0.09803922, 0.53333336, 0.03921569],\n         ...,\n         [0.09803922, 0.53333336, 0.03921569],\n         [0.09803922, 0.53333336, 0.03921569],\n         [0.09803922, 0.53333336, 0.03921569]]],\n\n\n       [[[0.61960787, 0.48235297, 0.50980395],\n         [0.61960787, 0.49411768, 0.52156866],\n         [0.61960787, 0.5019608 , 0.5294118 ],\n         ...,\n         [0.54901963, 0.21176472, 0.4666667 ],\n         [0.5568628 , 0.21176472, 0.46274513],\n         [0.57254905, 0.24313727, 0.48235297]],\n\n        [[0.6       , 0.427451  , 0.454902  ],\n         [0.6039216 , 0.43529415, 0.46274513],\n         [0.6039216 , 0.4431373 , 0.47058827],\n         ...,\n         [0.54901963, 0.20784315, 0.46274513],\n         [0.56078434, 0.21568629, 0.47058827],\n         [0.5686275 , 0.24313727, 0.48235297]],\n\n        [[0.54509807, 0.30588236, 0.37254903],\n         [0.5568628 , 0.32156864, 0.38431376],\n         [0.5647059 , 0.34509805, 0.40000004],\n         ...,\n         [0.5529412 , 0.20784315, 0.46274513],\n         [0.5647059 , 0.22352943, 0.47450984],\n         [0.56078434, 0.24313727, 0.4784314 ]],\n\n        ...,\n\n        [[0.6627451 , 0.68235296, 0.69411767],\n         [0.67058825, 0.6784314 , 0.69411767],\n         [0.67058825, 0.68235296, 0.7058824 ],\n         ...,\n         [0.6431373 , 0.6627451 , 0.6784314 ],\n         [0.6431373 , 0.6627451 , 0.6784314 ],\n         [0.6431373 , 0.65882355, 0.6784314 ]],\n\n        [[0.6627451 , 0.6784314 , 0.69411767],\n         [0.6745098 , 0.6784314 , 0.69411767],\n         [0.6666667 , 0.68235296, 0.70980394],\n         ...,\n         [0.64705884, 0.6666667 , 0.6784314 ],\n         [0.64705884, 0.6666667 , 0.6784314 ],\n         [0.64705884, 0.6666667 , 0.6784314 ]],\n\n        [[0.6627451 , 0.6784314 , 0.6901961 ],\n         [0.6745098 , 0.6784314 , 0.69411767],\n         [0.6627451 , 0.68235296, 0.70980394],\n         ...,\n         [0.6509804 , 0.6627451 , 0.68235296],\n         [0.6509804 , 0.6627451 , 0.68235296],\n         [0.6509804 , 0.6627451 , 0.68235296]]],\n\n\n       [[[0.17254902, 0.24705884, 0.40784317],\n         [0.1764706 , 0.21960786, 0.40000004],\n         [0.18431373, 0.19215688, 0.39607847],\n         ...,\n         [0.28627452, 0.40000004, 0.34901962],\n         [0.227451  , 0.3137255 , 0.33333334],\n         [0.227451  , 0.3137255 , 0.35686275]],\n\n        [[0.30980393, 0.41960788, 0.4156863 ],\n         [0.27450982, 0.40000004, 0.41960788],\n         [0.23529413, 0.38431376, 0.41960788],\n         ...,\n         [0.27450982, 0.38431376, 0.34509805],\n         [0.227451  , 0.3137255 , 0.33333334],\n         [0.227451  , 0.3137255 , 0.36078432]],\n\n        [[0.42352945, 0.40784317, 0.36862746],\n         [0.43137258, 0.42352945, 0.37647063],\n         [0.43529415, 0.44705886, 0.38431376],\n         ...,\n         [0.25882354, 0.36862746, 0.3372549 ],\n         [0.22352943, 0.3137255 , 0.33333334],\n         [0.23137257, 0.31764707, 0.36862746]],\n\n        ...,\n\n        [[0.48627454, 0.40784317, 0.36862746],\n         [0.39607847, 0.33333334, 0.32941177],\n         [0.32156864, 0.34901962, 0.38431376],\n         ...,\n         [0.36862746, 0.43921572, 0.34901962],\n         [0.37254903, 0.4431373 , 0.36078432],\n         [0.3803922 , 0.4431373 , 0.36862746]],\n\n        [[0.47058827, 0.38823533, 0.35686275],\n         [0.3921569 , 0.34509805, 0.3372549 ],\n         [0.2901961 , 0.32156864, 0.38431376],\n         ...,\n         [0.38823533, 0.43137258, 0.48235297],\n         [0.38431376, 0.43137258, 0.454902  ],\n         [0.37647063, 0.43137258, 0.427451  ]],\n\n        [[0.454902  , 0.37254903, 0.34901962],\n         [0.3921569 , 0.35686275, 0.34901962],\n         [0.2627451 , 0.29803923, 0.38823533],\n         ...,\n         [0.42352945, 0.45882356, 0.49411768],\n         [0.42352945, 0.454902  , 0.5019608 ],\n         [0.41960788, 0.44705886, 0.50980395]]],\n\n\n       ...,\n\n\n       [[[0.7294118 , 0.7568628 , 0.74509805],\n         [0.7294118 , 0.7568628 , 0.74509805],\n         [0.7294118 , 0.7568628 , 0.74509805],\n         ...,\n         [0.5254902 , 0.61960787, 0.6       ],\n         [0.5411765 , 0.63529414, 0.6156863 ],\n         [0.5176471 , 0.6117647 , 0.5921569 ]],\n\n        [[0.7372549 , 0.77647066, 0.7686275 ],\n         [0.7372549 , 0.77647066, 0.76470596],\n         [0.7372549 , 0.7725491 , 0.76470596],\n         ...,\n         [0.5254902 , 0.61960787, 0.6       ],\n         [0.5411765 , 0.63529414, 0.6156863 ],\n         [0.5176471 , 0.6117647 , 0.5921569 ]],\n\n        [[0.7411765 , 0.7803922 , 0.7725491 ],\n         [0.7411765 , 0.7803922 , 0.7725491 ],\n         [0.7411765 , 0.7803922 , 0.7725491 ],\n         ...,\n         [0.5254902 , 0.61960787, 0.6       ],\n         [0.5411765 , 0.63529414, 0.6156863 ],\n         [0.5176471 , 0.6117647 , 0.5921569 ]],\n\n        ...,\n\n        [[0.38823533, 0.48627454, 0.45098042],\n         [0.35686275, 0.4784314 , 0.43921572],\n         [0.38823533, 0.5058824 , 0.4666667 ],\n         ...,\n         [0.5176471 , 0.6039216 , 0.5372549 ],\n         [0.5176471 , 0.6039216 , 0.5372549 ],\n         [0.5176471 , 0.6039216 , 0.5372549 ]],\n\n        [[0.38431376, 0.48627454, 0.45098042],\n         [0.35686275, 0.4784314 , 0.43921572],\n         [0.38823533, 0.5058824 , 0.4666667 ],\n         ...,\n         [0.53333336, 0.61960787, 0.5529412 ],\n         [0.53333336, 0.61960787, 0.5529412 ],\n         [0.53333336, 0.61960787, 0.5529412 ]],\n\n        [[0.3803922 , 0.48235297, 0.44705886],\n         [0.35686275, 0.4784314 , 0.43921572],\n         [0.3921569 , 0.5058824 , 0.4666667 ],\n         ...,\n         [0.54509807, 0.61960787, 0.56078434],\n         [0.54509807, 0.61960787, 0.56078434],\n         [0.54509807, 0.61960787, 0.56078434]]],\n\n\n       [[[0.01568628, 0.01568628, 0.        ],\n         [0.01960784, 0.01568628, 0.        ],\n         [0.01960784, 0.01568628, 0.        ],\n         ...,\n         [0.01568628, 0.02352941, 0.        ],\n         [0.01568628, 0.02352941, 0.        ],\n         [0.01960784, 0.01568628, 0.        ]],\n\n        [[0.01568628, 0.01960784, 0.        ],\n         [0.01960784, 0.01568628, 0.        ],\n         [0.01960784, 0.01568628, 0.        ],\n         ...,\n         [0.01568628, 0.02352941, 0.        ],\n         [0.01568628, 0.02352941, 0.        ],\n         [0.01960784, 0.01568628, 0.        ]],\n\n        [[0.01568628, 0.01568628, 0.        ],\n         [0.01960784, 0.01568628, 0.        ],\n         [0.01960784, 0.01568628, 0.        ],\n         ...,\n         [0.02352941, 0.01960784, 0.        ],\n         [0.01960784, 0.01960784, 0.00392157],\n         [0.01960784, 0.01960784, 0.00392157]],\n\n        ...,\n\n        [[0.00392157, 0.00392157, 0.        ],\n         [0.00392157, 0.00392157, 0.        ],\n         [0.00392157, 0.00392157, 0.        ],\n         ...,\n         [0.00392157, 0.00392157, 0.        ],\n         [0.00392157, 0.00392157, 0.        ],\n         [0.00392157, 0.00392157, 0.        ]],\n\n        [[0.00392157, 0.00392157, 0.        ],\n         [0.00392157, 0.00392157, 0.        ],\n         [0.00392157, 0.00392157, 0.        ],\n         ...,\n         [0.00392157, 0.00392157, 0.        ],\n         [0.00392157, 0.00392157, 0.        ],\n         [0.00392157, 0.00392157, 0.        ]],\n\n        [[0.00392157, 0.00392157, 0.        ],\n         [0.00392157, 0.00392157, 0.        ],\n         [0.00392157, 0.00392157, 0.        ],\n         ...,\n         [0.00392157, 0.00392157, 0.        ],\n         [0.00392157, 0.00392157, 0.        ],\n         [0.00392157, 0.00392157, 0.        ]]],\n\n\n       [[[0.08627451, 0.16470589, 0.3019608 ],\n         [0.08235294, 0.16078432, 0.3019608 ],\n         [0.07450981, 0.15686275, 0.3019608 ],\n         ...,\n         [0.07450981, 0.08235294, 0.19215688],\n         [0.07450981, 0.08235294, 0.19215688],\n         [0.07450981, 0.08235294, 0.19215688]],\n\n        [[0.08627451, 0.16470589, 0.3019608 ],\n         [0.08627451, 0.16470589, 0.3019608 ],\n         [0.07843138, 0.16078432, 0.3019608 ],\n         ...,\n         [0.07450981, 0.08627451, 0.19607845],\n         [0.07450981, 0.08627451, 0.19607845],\n         [0.07450981, 0.08627451, 0.19607845]],\n\n        [[0.08627451, 0.16470589, 0.3019608 ],\n         [0.08627451, 0.16470589, 0.3019608 ],\n         [0.07843138, 0.16078432, 0.3019608 ],\n         ...,\n         [0.07450981, 0.08235294, 0.19215688],\n         [0.07450981, 0.08235294, 0.19215688],\n         [0.07450981, 0.08235294, 0.19215688]],\n\n        ...,\n\n        [[0.1764706 , 0.20000002, 0.16470589],\n         [0.18431373, 0.21176472, 0.16862746],\n         [0.18823531, 0.21568629, 0.16862746],\n         ...,\n         [0.09019608, 0.13333334, 0.26666668],\n         [0.09019608, 0.13333334, 0.26666668],\n         [0.09019608, 0.13333334, 0.26666668]],\n\n        [[0.21568629, 0.24705884, 0.18039216],\n         [0.22352943, 0.25882354, 0.18431373],\n         [0.23137257, 0.27058825, 0.19215688],\n         ...,\n         [0.09019608, 0.13333334, 0.26666668],\n         [0.09019608, 0.13333334, 0.26666668],\n         [0.09019608, 0.13333334, 0.26666668]],\n\n        [[0.26666668, 0.31764707, 0.22352943],\n         [0.27450982, 0.3254902 , 0.22352943],\n         [0.28627452, 0.3372549 , 0.21960786],\n         ...,\n         [0.08627451, 0.13333334, 0.26666668],\n         [0.09019608, 0.13333334, 0.26666668],\n         [0.09019608, 0.13333334, 0.26666668]]]], dtype=float32)"
     },
     "execution_count": 5,
     "metadata": {},
     "output_type": "execute_result"
    }
   ],
   "source": [
    "x_train"
   ],
   "metadata": {
    "collapsed": false,
    "pycharm": {
     "name": "#%%\n"
    }
   }
  },
  {
   "cell_type": "markdown",
   "metadata": {
    "id": "jRFxccghyMVo",
    "pycharm": {
     "name": "#%% md\n"
    }
   },
   "source": [
    "### Download and prepare the CIFAR10 dataset\n",
    "\n",
    "\n",
    "The CIFAR10 dataset contains 60,000 color images in 10 classes, with 6,000 images in each class. The dataset is divided into 50,000 training images and 10,000 testing images. The classes are mutually exclusive and there is no overlap between them."
   ]
  },
  {
   "cell_type": "code",
   "execution_count": 11,
   "metadata": {
    "pycharm": {
     "name": "#%%\n"
    }
   },
   "outputs": [],
   "source": [
    "def show_images(data, GRID=[2,6], model=None, size=(25,10)):\n",
    "\n",
    "    # The plotting configurations\n",
    "    n_rows, n_cols = GRID\n",
    "    n_images = n_rows * n_cols\n",
    "    plt.figure(figsize=size)\n",
    "\n",
    "    # Data for visualization\n",
    "    images, labels = next(iter(data)) # This process can take a little time because of the large batch size\n",
    "\n",
    "    # Iterate through the subplots.\n",
    "    for i in range(1, n_images+1):\n",
    "\n",
    "        # Select a random data\n",
    "        id = np.random.randint(len(images)) # This is a dynamic function because for validation data and training data, the length of total images is different.\n",
    "        image, label = images[id], class_names[int(labels[id])]\n",
    "\n",
    "        # Plot the sub plot\n",
    "        plt.subplot(n_rows, n_cols, i)\n",
    "        plt.imshow(image)\n",
    "        plt.axis('off')\n",
    "\n",
    "        # If model is available make predictions.\n",
    "        if model is not None:\n",
    "            pred = class_names[np.argmax(model.predict(image[np.newaxis,...]))]\n",
    "            title = f\"Class : {label}\\nPred : {pred}\"\n",
    "        else:\n",
    "            title = f\"Class : {label}\"\n",
    "\n",
    "        plt.title(title)\n",
    "    plt.show()"
   ]
  },
  {
   "cell_type": "code",
   "execution_count": null,
   "metadata": {
    "pycharm": {
     "name": "#%%\n",
     "is_executing": true
    }
   },
   "outputs": [],
   "source": [
    "class_names = ['Amoeba', 'Euglena', 'Hydra', 'Paramecium', 'Rod_bacteria', 'Spherical_bacteria', 'Spiral_bacteria', 'Yeast']\n",
    "show_images(data=train_ds)"
   ]
  },
  {
   "cell_type": "markdown",
   "metadata": {
    "pycharm": {
     "name": "#%% md\n"
    }
   },
   "source": []
  },
  {
   "cell_type": "markdown",
   "metadata": {
    "id": "7wArwCTJJlUa",
    "pycharm": {
     "name": "#%% md\n"
    }
   },
   "source": [
    "### Verify the data\n",
    "\n",
    "To verify that the dataset looks correct, let's plot the first 25 images from the training set and display the class name below each image:\n"
   ]
  },
  {
   "cell_type": "markdown",
   "metadata": {
    "id": "Oewp-wYg31t9",
    "pycharm": {
     "name": "#%% md\n"
    }
   },
   "source": [
    "### Create the neural network\n",
    "\n",
    "We're going to skip over the details for now of how this works. We'll talk about this in lecture next week. If you want more information now, though, feel free to refer to the [Original tutorial](https://www.tensorflow.org/tutorials/images/cnn). \n",
    "\n",
    "For now, trust that the code below makes a new neural network in keras. Each `.add()` function call either adds a new layer of neurons of a particular type, or specifies some processing that will be applied to the neurons in the layer that was just added."
   ]
  },
  {
   "cell_type": "code",
   "execution_count": 15,
   "metadata": {
    "execution": {
     "iopub.execute_input": "2022-01-26T05:11:49.708455Z",
     "iopub.status.busy": "2022-01-26T05:11:49.706738Z",
     "iopub.status.idle": "2022-01-26T05:11:51.276934Z",
     "shell.execute_reply": "2022-01-26T05:11:51.277363Z"
    },
    "id": "L9YmGQBQPrdn",
    "pycharm": {
     "name": "#%%\n"
    }
   },
   "outputs": [],
   "source": [
    "model = models.Sequential()\n",
    "model.add(layers.Conv2D(32, (3, 3), activation='relu', input_shape=(256, 256, 3)))\n",
    "model.add(layers.MaxPooling2D((2, 2)))\n",
    "model.add(layers.Conv2D(64, (3, 3), activation='relu'))\n",
    "model.add(layers.MaxPooling2D((2, 2)))\n",
    "model.add(layers.Conv2D(64, (3, 3), activation='relu'))\n",
    "model.add(layers.Flatten())\n",
    "model.add(layers.Dense(64, activation='relu'))\n",
    "model.add(layers.Dense(10))"
   ]
  },
  {
   "cell_type": "markdown",
   "metadata": {
    "id": "P3odqfHP4M67",
    "pycharm": {
     "name": "#%% md\n"
    }
   },
   "source": [
    "### Compile and train the model\n",
    "\n",
    "The `compile` function specifies which optimisation algorithm to use when training the network. Here, we are using the \"adam\" optimizer and we are telling it to minimise a particular type of error (loss) called \"sparse categorical cross-entropy\" (more on these later; don't worry for now). The `metrics=['accuracy']` bit tells it to print out the model accuracy on the training and test datasets after every epoch (training pass). Validation set should generally improve as you train for more epochs, though sometimes the model begins to *overfit* and you will see validation set accuracy decrease even if training set accuracy continues to be good.\n",
    "\n",
    "The `fit` function actually does the model training. The code below specifies that 10 training epochs should be performed. Note that we pass the \"validation data\" (i.e., our hold-out set) to the `fit` function only for the purposes of computing the accuracy on this dataset after each epoch, which we'll examine later, below."
   ]
  },
  {
   "cell_type": "code",
   "execution_count": 16,
   "metadata": {
    "execution": {
     "iopub.execute_input": "2022-01-26T05:11:51.354877Z",
     "iopub.status.busy": "2022-01-26T05:11:51.351479Z",
     "iopub.status.idle": "2022-01-26T05:12:53.567336Z",
     "shell.execute_reply": "2022-01-26T05:12:53.566859Z"
    },
    "id": "MdDzI75PUXrG",
    "pycharm": {
     "name": "#%%\n"
    }
   },
   "outputs": [
    {
     "name": "stdout",
     "output_type": "stream",
     "text": [
      "Epoch 1/50\n",
      "78/78 [==============================] - 60s 755ms/step - loss: 1.4164 - accuracy: 0.3569 - val_loss: 1.3747 - val_accuracy: 0.3126\n",
      "Epoch 2/50\n",
      "78/78 [==============================] - 58s 745ms/step - loss: 1.2374 - accuracy: 0.4449 - val_loss: 1.3631 - val_accuracy: 0.2907\n",
      "Epoch 3/50\n",
      "78/78 [==============================] - 59s 748ms/step - loss: 1.1383 - accuracy: 0.5131 - val_loss: 1.2856 - val_accuracy: 0.3766\n",
      "Epoch 4/50\n",
      "78/78 [==============================] - 59s 748ms/step - loss: 1.0302 - accuracy: 0.5727 - val_loss: 1.3362 - val_accuracy: 0.3711\n",
      "Epoch 5/50\n",
      "78/78 [==============================] - 58s 747ms/step - loss: 0.9167 - accuracy: 0.6388 - val_loss: 1.2636 - val_accuracy: 0.4424\n",
      "Epoch 6/50\n",
      "78/78 [==============================] - 59s 755ms/step - loss: 0.7709 - accuracy: 0.7033 - val_loss: 1.2780 - val_accuracy: 0.4717\n",
      "Epoch 7/50\n",
      "78/78 [==============================] - 58s 737ms/step - loss: 0.6871 - accuracy: 0.7329 - val_loss: 1.2351 - val_accuracy: 0.5210\n",
      "Epoch 8/50\n",
      "78/78 [==============================] - 58s 738ms/step - loss: 0.6348 - accuracy: 0.7585 - val_loss: 1.3204 - val_accuracy: 0.5356\n",
      "Epoch 9/50\n",
      "78/78 [==============================] - 59s 748ms/step - loss: 0.6066 - accuracy: 0.7700 - val_loss: 1.4558 - val_accuracy: 0.5448\n",
      "Epoch 10/50\n",
      "78/78 [==============================] - 59s 766ms/step - loss: 0.5454 - accuracy: 0.7923 - val_loss: 1.4999 - val_accuracy: 0.5119\n",
      "Epoch 11/50\n",
      "78/78 [==============================] - 59s 751ms/step - loss: 0.4861 - accuracy: 0.8262 - val_loss: 1.4393 - val_accuracy: 0.5576\n",
      "Epoch 12/50\n",
      "78/78 [==============================] - 59s 757ms/step - loss: 0.4496 - accuracy: 0.8331 - val_loss: 1.2460 - val_accuracy: 0.5850\n",
      "Epoch 13/50\n",
      "78/78 [==============================] - 61s 776ms/step - loss: 0.3975 - accuracy: 0.8520 - val_loss: 1.2248 - val_accuracy: 0.5777\n",
      "Epoch 14/50\n",
      "78/78 [==============================] - 61s 772ms/step - loss: 0.4025 - accuracy: 0.8499 - val_loss: 1.4480 - val_accuracy: 0.5777\n",
      "Epoch 15/50\n",
      "78/78 [==============================] - 59s 760ms/step - loss: 0.3378 - accuracy: 0.8759 - val_loss: 1.3832 - val_accuracy: 0.6179\n",
      "Epoch 16/50\n",
      "78/78 [==============================] - 58s 740ms/step - loss: 0.3041 - accuracy: 0.8941 - val_loss: 1.4836 - val_accuracy: 0.6325\n",
      "Epoch 17/50\n",
      "78/78 [==============================] - 58s 742ms/step - loss: 0.3291 - accuracy: 0.8818 - val_loss: 1.5763 - val_accuracy: 0.5375\n",
      "Epoch 18/50\n",
      "78/78 [==============================] - 58s 741ms/step - loss: 0.3448 - accuracy: 0.8779 - val_loss: 1.5278 - val_accuracy: 0.5960\n",
      "Epoch 19/50\n",
      "78/78 [==============================] - 58s 743ms/step - loss: 0.2790 - accuracy: 0.8962 - val_loss: 1.5137 - val_accuracy: 0.5832\n",
      "Epoch 20/50\n",
      "78/78 [==============================] - 59s 750ms/step - loss: 0.2565 - accuracy: 0.9057 - val_loss: 1.4235 - val_accuracy: 0.5777\n",
      "Epoch 21/50\n",
      "78/78 [==============================] - 58s 746ms/step - loss: 0.2403 - accuracy: 0.9185 - val_loss: 1.4946 - val_accuracy: 0.5722\n",
      "Epoch 22/50\n",
      "78/78 [==============================] - 60s 770ms/step - loss: 0.2170 - accuracy: 0.9266 - val_loss: 1.3820 - val_accuracy: 0.5868\n",
      "Epoch 23/50\n",
      "78/78 [==============================] - 59s 749ms/step - loss: 0.2328 - accuracy: 0.9179 - val_loss: 1.5029 - val_accuracy: 0.6380\n",
      "Epoch 24/50\n",
      "78/78 [==============================] - 60s 767ms/step - loss: 0.2366 - accuracy: 0.9128 - val_loss: 1.5877 - val_accuracy: 0.5631\n",
      "Epoch 25/50\n",
      "78/78 [==============================] - 60s 760ms/step - loss: 0.1962 - accuracy: 0.9315 - val_loss: 1.7590 - val_accuracy: 0.5960\n",
      "Epoch 26/50\n",
      "78/78 [==============================] - 58s 745ms/step - loss: 0.1784 - accuracy: 0.9396 - val_loss: 1.5627 - val_accuracy: 0.6088\n",
      "Epoch 27/50\n",
      "78/78 [==============================] - 59s 748ms/step - loss: 0.1798 - accuracy: 0.9406 - val_loss: 1.6593 - val_accuracy: 0.5558\n",
      "Epoch 28/50\n",
      "78/78 [==============================] - 58s 741ms/step - loss: 0.1746 - accuracy: 0.9406 - val_loss: 1.5179 - val_accuracy: 0.6654\n",
      "Epoch 29/50\n",
      "78/78 [==============================] - 58s 743ms/step - loss: 0.1428 - accuracy: 0.9521 - val_loss: 2.0765 - val_accuracy: 0.5740\n",
      "Epoch 30/50\n",
      "78/78 [==============================] - 58s 747ms/step - loss: 0.1503 - accuracy: 0.9487 - val_loss: 1.8648 - val_accuracy: 0.6051\n",
      "Epoch 31/50\n",
      "78/78 [==============================] - 59s 745ms/step - loss: 0.1362 - accuracy: 0.9505 - val_loss: 2.0371 - val_accuracy: 0.5722\n",
      "Epoch 32/50\n",
      "78/78 [==============================] - 58s 742ms/step - loss: 0.1339 - accuracy: 0.9505 - val_loss: 1.6901 - val_accuracy: 0.5759\n",
      "Epoch 33/50\n",
      "78/78 [==============================] - 58s 746ms/step - loss: 0.1818 - accuracy: 0.9396 - val_loss: 1.3805 - val_accuracy: 0.6801\n",
      "Epoch 34/50\n",
      "78/78 [==============================] - 58s 745ms/step - loss: 0.1293 - accuracy: 0.9544 - val_loss: 1.7692 - val_accuracy: 0.6197\n",
      "Epoch 35/50\n",
      "78/78 [==============================] - 58s 742ms/step - loss: 0.1234 - accuracy: 0.9564 - val_loss: 1.4843 - val_accuracy: 0.6271\n",
      "Epoch 36/50\n",
      "78/78 [==============================] - 239s 3s/step - loss: 0.1345 - accuracy: 0.9580 - val_loss: 1.5481 - val_accuracy: 0.6947\n",
      "Epoch 37/50\n",
      "78/78 [==============================] - 203s 3s/step - loss: 0.1101 - accuracy: 0.9613 - val_loss: 1.8670 - val_accuracy: 0.6801\n",
      "Epoch 38/50\n",
      "78/78 [==============================] - 202s 3s/step - loss: 0.1162 - accuracy: 0.9603 - val_loss: 1.9228 - val_accuracy: 0.5887\n",
      "Epoch 39/50\n",
      "78/78 [==============================] - 58s 738ms/step - loss: 0.1065 - accuracy: 0.9643 - val_loss: 1.8534 - val_accuracy: 0.6435\n",
      "Epoch 40/50\n",
      "78/78 [==============================] - 58s 740ms/step - loss: 0.0976 - accuracy: 0.9676 - val_loss: 1.8411 - val_accuracy: 0.6581\n",
      "Epoch 41/50\n",
      "78/78 [==============================] - 58s 741ms/step - loss: 0.1019 - accuracy: 0.9682 - val_loss: 1.8537 - val_accuracy: 0.6051\n",
      "Epoch 42/50\n",
      "78/78 [==============================] - 58s 743ms/step - loss: 0.0910 - accuracy: 0.9700 - val_loss: 1.8050 - val_accuracy: 0.6344\n",
      "Epoch 43/50\n",
      "78/78 [==============================] - 58s 747ms/step - loss: 0.0817 - accuracy: 0.9726 - val_loss: 1.8715 - val_accuracy: 0.6380\n",
      "Epoch 44/50\n",
      "78/78 [==============================] - 58s 733ms/step - loss: 0.1000 - accuracy: 0.9667 - val_loss: 1.6332 - val_accuracy: 0.6453\n",
      "Epoch 45/50\n",
      "78/78 [==============================] - 57s 730ms/step - loss: 0.0885 - accuracy: 0.9728 - val_loss: 1.9375 - val_accuracy: 0.6216\n",
      "Epoch 46/50\n",
      "78/78 [==============================] - 57s 734ms/step - loss: 0.0757 - accuracy: 0.9734 - val_loss: 2.1648 - val_accuracy: 0.6417\n",
      "Epoch 47/50\n",
      "78/78 [==============================] - 57s 734ms/step - loss: 0.0736 - accuracy: 0.9783 - val_loss: 2.0014 - val_accuracy: 0.6691\n",
      "Epoch 48/50\n",
      "78/78 [==============================] - 57s 734ms/step - loss: 0.2610 - accuracy: 0.9215 - val_loss: 2.2816 - val_accuracy: 0.5704\n",
      "Epoch 49/50\n",
      "78/78 [==============================] - 5521s 72s/step - loss: 0.1316 - accuracy: 0.9568 - val_loss: 1.7664 - val_accuracy: 0.6801\n",
      "Epoch 50/50\n",
      "78/78 [==============================] - 5567s 72s/step - loss: 0.0855 - accuracy: 0.9724 - val_loss: 1.6598 - val_accuracy: 0.6234\n"
     ]
    }
   ],
   "source": [
    "model.compile(optimizer='Adam',\n",
    "              loss=tf.keras.losses.SparseCategoricalCrossentropy(from_logits=True),\n",
    "              metrics=['accuracy'])\n",
    "\n",
    "history = model.fit(train_ds, epochs=50,\n",
    "                    validation_data=test_ds)"
   ]
  },
  {
   "cell_type": "markdown",
   "metadata": {
    "id": "jKgyC5K_4O0d",
    "pycharm": {
     "name": "#%% md\n"
    }
   },
   "source": [
    "### Plot how accuracy changes over time on the training set and the test (\"validation\") set"
   ]
  },
  {
   "cell_type": "code",
   "execution_count": 17,
   "metadata": {
    "execution": {
     "iopub.execute_input": "2022-01-26T05:12:53.592360Z",
     "iopub.status.busy": "2022-01-26T05:12:53.591680Z",
     "iopub.status.idle": "2022-01-26T05:12:54.645588Z",
     "shell.execute_reply": "2022-01-26T05:12:54.645130Z"
    },
    "id": "gtyDF0MKUcM7",
    "pycharm": {
     "name": "#%%\n"
    }
   },
   "outputs": [
    {
     "data": {
      "text/plain": "<matplotlib.legend.Legend at 0x300963730>"
     },
     "execution_count": 17,
     "metadata": {},
     "output_type": "execute_result"
    },
    {
     "data": {
      "text/plain": "<Figure size 640x480 with 1 Axes>",
      "image/png": "[encoded data removed]"
     },
     "metadata": {},
     "output_type": "display_data"
    }
   ],
   "source": [
    "plt.plot(history.history['accuracy'], label='training set accuracy')\n",
    "plt.plot(history.history['val_accuracy'], label = 'test set accuracy')\n",
    "plt.xlabel('Epoch')\n",
    "plt.ylabel('Accuracy')\n",
    "plt.ylim([0.5, 1])\n",
    "plt.legend(loc='lower right')"
   ]
  },
  {
   "cell_type": "code",
   "execution_count": 56,
   "metadata": {
    "execution": {
     "iopub.execute_input": "2022-01-26T05:12:54.649570Z",
     "iopub.status.busy": "2022-01-26T05:12:54.649014Z",
     "iopub.status.idle": "2022-01-26T05:12:54.651075Z",
     "shell.execute_reply": "2022-01-26T05:12:54.651428Z"
    },
    "id": "0LvwaKhtUdOo",
    "pycharm": {
     "name": "#%%\n"
    }
   },
   "outputs": [
    {
     "ename": "ValueError",
     "evalue": "in user code:\n\n    File \"/Users/pannic/miniforge3/envs/CC-Coding-Three/lib/python3.10/site-packages/keras/engine/training.py\", line 1852, in test_function  *\n        return step_function(self, iterator)\n    File \"/Users/pannic/miniforge3/envs/CC-Coding-Three/lib/python3.10/site-packages/keras/engine/training.py\", line 1836, in step_function  **\n        outputs = model.distribute_strategy.run(run_step, args=(data,))\n    File \"/Users/pannic/miniforge3/envs/CC-Coding-Three/lib/python3.10/site-packages/keras/engine/training.py\", line 1824, in run_step  **\n        outputs = model.test_step(data)\n    File \"/Users/pannic/miniforge3/envs/CC-Coding-Three/lib/python3.10/site-packages/keras/engine/training.py\", line 1788, in test_step\n        y_pred = self(x, training=False)\n    File \"/Users/pannic/miniforge3/envs/CC-Coding-Three/lib/python3.10/site-packages/keras/utils/traceback_utils.py\", line 70, in error_handler\n        raise e.with_traceback(filtered_tb) from None\n    File \"/Users/pannic/miniforge3/envs/CC-Coding-Three/lib/python3.10/site-packages/keras/engine/input_spec.py\", line 219, in assert_input_compatibility\n        raise ValueError(\n\n    ValueError: Layer \"sequential_4\" expects 1 input(s), but it received 2 input tensors. Inputs received: [<tf.Tensor 'IteratorGetNext:0' shape=(32, 256, 256, 3) dtype=float32>, <tf.Tensor 'IteratorGetNext:1' shape=(32,) dtype=float32>]\n",
     "output_type": "error",
     "traceback": [
      "\u001B[0;31m---------------------------------------------------------------------------\u001B[0m",
      "\u001B[0;31mValueError\u001B[0m                                Traceback (most recent call last)",
      "Cell \u001B[0;32mIn[56], line 3\u001B[0m\n\u001B[1;32m      1\u001B[0m \u001B[38;5;66;03m#You can use code like this to test a trained model on any other dataset\u001B[39;00m\n\u001B[1;32m      2\u001B[0m \u001B[38;5;66;03m# Here we're using test_images and test_labels again, but you could imagine replacing this with totally different data\u001B[39;00m\n\u001B[0;32m----> 3\u001B[0m test_loss, test_acc \u001B[38;5;241m=\u001B[39m \u001B[43mmodel\u001B[49m\u001B[38;5;241;43m.\u001B[39;49m\u001B[43mevaluate\u001B[49m\u001B[43m(\u001B[49m\u001B[43mtest_ds\u001B[49m\u001B[43m[\u001B[49m\u001B[38;5;241;43m0\u001B[39;49m\u001B[43m]\u001B[49m\u001B[43m,\u001B[49m\u001B[43m  \u001B[49m\u001B[43mtest_ds\u001B[49m\u001B[43m[\u001B[49m\u001B[38;5;241;43m1\u001B[39;49m\u001B[43m]\u001B[49m\u001B[43m,\u001B[49m\u001B[43m \u001B[49m\u001B[43mverbose\u001B[49m\u001B[38;5;241;43m=\u001B[39;49m\u001B[38;5;241;43m2\u001B[39;49m\u001B[43m)\u001B[49m\n\u001B[1;32m      4\u001B[0m \u001B[38;5;28mprint\u001B[39m(\u001B[38;5;124m\"\u001B[39m\u001B[38;5;124mTest accuracy after final epoch is \u001B[39m\u001B[38;5;124m\"\u001B[39m, test_acc\u001B[38;5;241m*\u001B[39m\u001B[38;5;241m100\u001B[39m)\n",
      "File \u001B[0;32m~/miniforge3/envs/CC-Coding-Three/lib/python3.10/site-packages/keras/utils/traceback_utils.py:70\u001B[0m, in \u001B[0;36mfilter_traceback.<locals>.error_handler\u001B[0;34m(*args, **kwargs)\u001B[0m\n\u001B[1;32m     67\u001B[0m     filtered_tb \u001B[38;5;241m=\u001B[39m _process_traceback_frames(e\u001B[38;5;241m.\u001B[39m__traceback__)\n\u001B[1;32m     68\u001B[0m     \u001B[38;5;66;03m# To get the full stack trace, call:\u001B[39;00m\n\u001B[1;32m     69\u001B[0m     \u001B[38;5;66;03m# `tf.debugging.disable_traceback_filtering()`\u001B[39;00m\n\u001B[0;32m---> 70\u001B[0m     \u001B[38;5;28;01mraise\u001B[39;00m e\u001B[38;5;241m.\u001B[39mwith_traceback(filtered_tb) \u001B[38;5;28;01mfrom\u001B[39;00m \u001B[38;5;28;01mNone\u001B[39;00m\n\u001B[1;32m     71\u001B[0m \u001B[38;5;28;01mfinally\u001B[39;00m:\n\u001B[1;32m     72\u001B[0m     \u001B[38;5;28;01mdel\u001B[39;00m filtered_tb\n",
      "File \u001B[0;32m/var/folders/3n/kyzq63d11tq239qyx06ppcq80000gn/T/__autograph_generated_fileng6jw4sa.py:15\u001B[0m, in \u001B[0;36mouter_factory.<locals>.inner_factory.<locals>.tf__test_function\u001B[0;34m(iterator)\u001B[0m\n\u001B[1;32m     13\u001B[0m \u001B[38;5;28;01mtry\u001B[39;00m:\n\u001B[1;32m     14\u001B[0m     do_return \u001B[38;5;241m=\u001B[39m \u001B[38;5;28;01mTrue\u001B[39;00m\n\u001B[0;32m---> 15\u001B[0m     retval_ \u001B[38;5;241m=\u001B[39m ag__\u001B[38;5;241m.\u001B[39mconverted_call(ag__\u001B[38;5;241m.\u001B[39mld(step_function), (ag__\u001B[38;5;241m.\u001B[39mld(\u001B[38;5;28mself\u001B[39m), ag__\u001B[38;5;241m.\u001B[39mld(iterator)), \u001B[38;5;28;01mNone\u001B[39;00m, fscope)\n\u001B[1;32m     16\u001B[0m \u001B[38;5;28;01mexcept\u001B[39;00m:\n\u001B[1;32m     17\u001B[0m     do_return \u001B[38;5;241m=\u001B[39m \u001B[38;5;28;01mFalse\u001B[39;00m\n",
      "\u001B[0;31mValueError\u001B[0m: in user code:\n\n    File \"/Users/pannic/miniforge3/envs/CC-Coding-Three/lib/python3.10/site-packages/keras/engine/training.py\", line 1852, in test_function  *\n        return step_function(self, iterator)\n    File \"/Users/pannic/miniforge3/envs/CC-Coding-Three/lib/python3.10/site-packages/keras/engine/training.py\", line 1836, in step_function  **\n        outputs = model.distribute_strategy.run(run_step, args=(data,))\n    File \"/Users/pannic/miniforge3/envs/CC-Coding-Three/lib/python3.10/site-packages/keras/engine/training.py\", line 1824, in run_step  **\n        outputs = model.test_step(data)\n    File \"/Users/pannic/miniforge3/envs/CC-Coding-Three/lib/python3.10/site-packages/keras/engine/training.py\", line 1788, in test_step\n        y_pred = self(x, training=False)\n    File \"/Users/pannic/miniforge3/envs/CC-Coding-Three/lib/python3.10/site-packages/keras/utils/traceback_utils.py\", line 70, in error_handler\n        raise e.with_traceback(filtered_tb) from None\n    File \"/Users/pannic/miniforge3/envs/CC-Coding-Three/lib/python3.10/site-packages/keras/engine/input_spec.py\", line 219, in assert_input_compatibility\n        raise ValueError(\n\n    ValueError: Layer \"sequential_4\" expects 1 input(s), but it received 2 input tensors. Inputs received: [<tf.Tensor 'IteratorGetNext:0' shape=(32, 256, 256, 3) dtype=float32>, <tf.Tensor 'IteratorGetNext:1' shape=(32,) dtype=float32>]\n"
     ]
    }
   ],
   "source": [
    "#You can use code like this to test a trained model on any other dataset\n",
    "# Here we're using test_images and test_labels again, but you could imagine replacing this with totally different data\n",
    "test_loss, test_acc = model.evaluate(test_ds[0],  test_ds[1], verbose=2)\n",
    "print(\"Test accuracy after final epoch is \", test_acc*100)"
   ]
  },
  {
   "cell_type": "code",
   "execution_count": 59,
   "metadata": {
    "pycharm": {
     "name": "#%%\n"
    }
   },
   "outputs": [
    {
     "name": "stdout",
     "output_type": "stream",
     "text": [
      "Object `models.Sequential()` not found.\n"
     ]
    }
   ],
   "source": [
    "?models.Sequential()"
   ]
  },
  {
   "cell_type": "code",
   "execution_count": null,
   "metadata": {
    "pycharm": {
     "name": "#%%\n"
    }
   },
   "outputs": [],
   "source": []
  }
 ],
 "metadata": {
  "accelerator": "GPU",
  "colab": {
   "collapsed_sections": [],
   "name": "cnn.ipynb",
   "toc_visible": true
  },
  "kernelspec": {
   "display_name": "Python 3 (ipykernel)",
   "language": "python",
   "name": "python3"
  },
  "language_info": {
   "codemirror_mode": {
    "name": "ipython",
    "version": 3
   },
   "file_extension": ".py",
   "mimetype": "text/x-python",
   "name": "python",
   "nbconvert_exporter": "python",
   "pygments_lexer": "ipython3",
   "version": "3.10.10"
  }
 },
 "nbformat": 4,
 "nbformat_minor": 1
}