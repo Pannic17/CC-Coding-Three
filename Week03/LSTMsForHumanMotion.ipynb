{
 "cells": [
  {
   "cell_type": "markdown",
   "metadata": {
    "pycharm": {
     "name": "#%% md\n"
    }
   },
   "source": [
    "# Activity: Build an LSTM to build a classifier for the Human Activity Recognition Using Smartphones Dataset #\n",
    "\n",
    "Adapted from https://github.com/servomac/Human-Activity-Recognition/\n",
    "\n",
    "Dataset information at https://archive.ics.uci.edu/ml/datasets/Human+Activity+Recognition+Using+Smartphones#\n",
    "\n",
    "\n",
    "\n"
   ]
  },
  {
   "cell_type": "markdown",
   "metadata": {
    "pycharm": {
     "name": "#%% md\n"
    }
   },
   "source": [
    "**If you have not yet installed wget, you will need to start by doing so:**\n",
    "\n",
    "1) Open a new terminal/command window\n",
    "2) Type `conda install python-wget`"
   ]
  },
  {
   "cell_type": "code",
   "execution_count": 1,
   "metadata": {
    "pycharm": {
     "name": "#%%\n"
    }
   },
   "outputs": [],
   "source": [
    "#All our imports\n",
    "import pandas as pd\n",
    "import numpy as np\n",
    "import tensorflow as tf\n",
    "from keras import backend as K\n",
    "from keras.models import Sequential\n",
    "from keras.layers import LSTM\n",
    "from keras.layers.core import Dense, Dropout\n",
    "from matplotlib.pyplot import *"
   ]
  },
  {
   "cell_type": "markdown",
   "metadata": {
    "pycharm": {
     "name": "#%% md\n"
    }
   },
   "source": [
    "This next cell uses \"wget\" to download data from an online archive. You'll only need to run this the first time you run the notebook, because when you run this the first time it will save the data in the directory with this notebook."
   ]
  },
  {
   "cell_type": "code",
   "execution_count": 2,
   "metadata": {
    "pycharm": {
     "name": "#%%\n"
    }
   },
   "outputs": [
    {
     "name": "stdout",
     "output_type": "stream",
     "text": [
      "you already have it!\n"
     ]
    }
   ],
   "source": [
    "import wget\n",
    "import os\n",
    "import zipfile\n",
    "\n",
    "\n",
    "#This is going to take a little while\n",
    "if not os.path.isdir(\"UCI HAR Dataset\"):\n",
    "    print(\"downloading\")\n",
    "    wget.download(\"http://archive.ics.uci.edu/ml/machine-learning-databases/00240/UCI HAR Dataset.zip\")\n",
    "    \n",
    "    with zipfile.ZipFile(\"UCI HAR Dataset.zip\", 'r') as zip_ref:\n",
    "        zip_ref.extractall(\"\")\n",
    "        \n",
    "    print(\"done\")\n",
    "    \n",
    "else:\n",
    "    print(\"you already have it!\")"
   ]
  },
  {
   "cell_type": "code",
   "execution_count": 3,
   "metadata": {
    "pycharm": {
     "name": "#%%\n"
    }
   },
   "outputs": [],
   "source": [
    "# This is helper code from the github repo.\n",
    "#No need to edit this, but it's helpful to glance through this code to see what it does\n",
    "\n",
    "DATADIR = 'UCI HAR Dataset' \n",
    "\n",
    "SIGNALS = [\n",
    "    \"body_acc_x\",\n",
    "    \"body_acc_y\",\n",
    "    \"body_acc_z\",\n",
    "    \"body_gyro_x\",\n",
    "    \"body_gyro_y\",\n",
    "    \"body_gyro_z\",\n",
    "    \"total_acc_x\",\n",
    "    \"total_acc_y\",\n",
    "    \"total_acc_z\"\n",
    "]\n",
    "\n",
    "ACTIVITIES = {\n",
    "    0: 'WALKING',\n",
    "    1: 'WALKING_UPSTAIRS',\n",
    "    2: 'WALKING_DOWNSTAIRS',\n",
    "    3: 'SITTING',\n",
    "    4: 'STANDING',\n",
    "    5: 'LAYING',\n",
    "}\n",
    "\n",
    "\n",
    "def _read_csv(filename):\n",
    "    return pd.read_csv(filename, delim_whitespace=True, header=None)\n",
    "\n",
    "def load_signals(subset):\n",
    "    signals_data = []\n",
    "\n",
    "    for signal in SIGNALS:\n",
    "        filename = f'{DATADIR}/{subset}/Inertial Signals/{signal}_{subset}.txt'\n",
    "        signals_data.append(\n",
    "            _read_csv(filename).values\n",
    "        ) \n",
    "\n",
    "    # Transpose is used to change the dimensionality of the output,\n",
    "    # aggregating the signals by combination of sample/timestep.\n",
    "    # Resultant shape is (7352 train/2947 test samples, 128 timesteps, 9 signals)\n",
    "    return np.transpose(signals_data, (1, 2, 0))\n",
    "\n",
    "def load_y(subset):\n",
    "    \"\"\"\n",
    "    The objective that we are trying to predict is a integer, from 1 to 6,\n",
    "    that represents a human activity. We return a binary representation of \n",
    "    every sample objective as a 6 bits vector using One Hot Encoding\n",
    "    (https://pandas.pydata.org/pandas-docs/stable/generated/pandas.get_dummies.html)\n",
    "    \"\"\"\n",
    "    filename = f'{DATADIR}/{subset}/y_{subset}.txt'\n",
    "    y = _read_csv(filename)[0]\n",
    "\n",
    "    return pd.get_dummies(y).values\n",
    "\n",
    "def load_data():\n",
    "    \"\"\"\n",
    "    Obtain the dataset from multiple files.\n",
    "    Returns: X_train, X_test, y_train, y_test\n",
    "    \"\"\"\n",
    "    X_train, X_test = load_signals('train'), load_signals('test')\n",
    "    y_train, y_test = load_y('train'), load_y('test')\n",
    "\n",
    "    return X_train, X_test, y_train, y_test\n",
    "\n",
    "\n",
    "def confusion_matrix(Y_true, Y_pred):\n",
    "    Y_true = pd.Series([ACTIVITIES[y] for y in np.argmax(Y_true, axis=1)])\n",
    "    Y_pred = pd.Series([ACTIVITIES[y] for y in np.argmax(Y_pred, axis=1)])\n",
    "\n",
    "    return pd.crosstab(Y_true, Y_pred, rownames=['True'], colnames=['Pred'])\n",
    "\n",
    "def _count_classes(y):\n",
    "    return len(set([tuple(category) for category in y]))"
   ]
  },
  {
   "cell_type": "markdown",
   "metadata": {
    "pycharm": {
     "name": "#%% md\n"
    }
   },
   "source": [
    "## Our LSTM model ##\n",
    "\n",
    "This is where the important stuff happens. Try to understand everything happening here, and experiment with changing it once you've got the basic method working.\n"
   ]
  },
  {
   "cell_type": "code",
   "execution_count": 4,
   "metadata": {
    "pycharm": {
     "name": "#%%\n"
    }
   },
   "outputs": [],
   "source": [
    "#Load the data and splits into training and test sets, where X is input and Y is output\n",
    "X_train, X_test, Y_train, Y_test = load_data()\n",
    "\n",
    "#Compute some information from the data, which we need to set up the model\n",
    "timesteps = len(X_train[0])\n",
    "input_dim = len(X_train[0][0])\n",
    "n_classes = _count_classes(Y_train)"
   ]
  },
  {
   "cell_type": "code",
   "execution_count": 5,
   "metadata": {
    "pycharm": {
     "name": "#%%\n"
    }
   },
   "outputs": [
    {
     "name": "stdout",
     "output_type": "stream",
     "text": [
      "(7352, 128, 9)\n"
     ]
    }
   ],
   "source": [
    "#After loading data, it's always a good idea to get a feel for what is in the data \n",
    "\n",
    "#For instance, we can use np.shape() to look at the shape of our examples\n",
    "print(np.shape(X_train)) #this shows us we have 7352 training examples, where each input is 128x9 (9 channels of 128 samples each)"
   ]
  },
  {
   "cell_type": "code",
   "execution_count": 6,
   "metadata": {
    "pycharm": {
     "name": "#%%\n"
    }
   },
   "outputs": [
    {
     "data": {
      "text/plain": "[<matplotlib.lines.Line2D at 0x2878d0490>]"
     },
     "execution_count": 6,
     "metadata": {},
     "output_type": "execute_result"
    },
    {
     "data": {
      "text/plain": "<Figure size 640x480 with 1 Axes>",
      "image/png": "[encoded data removed]"
     },
     "metadata": {},
     "output_type": "display_data"
    }
   ],
   "source": [
    "#We can peek at an individual example\n",
    "exampleNumber = 0\n",
    "channelNumber = 3\n",
    "plot(np.transpose(X_train[exampleNumber])[channelNumber])"
   ]
  },
  {
   "cell_type": "code",
   "execution_count": 7,
   "metadata": {
    "pycharm": {
     "name": "#%%\n"
    }
   },
   "outputs": [
    {
     "name": "stdout",
     "output_type": "stream",
     "text": [
      "(7352, 6)\n"
     ]
    }
   ],
   "source": [
    "print(np.shape(Y_train)) #and we have a 6-dimensional output for each one of our 7352 examples"
   ]
  },
  {
   "cell_type": "code",
   "execution_count": 8,
   "metadata": {
    "pycharm": {
     "name": "#%%\n"
    }
   },
   "outputs": [
    {
     "name": "stdout",
     "output_type": "stream",
     "text": [
      "[False False False False  True False]\n"
     ]
    }
   ],
   "source": [
    "#We're using a \"one-hot\" encoding, which means that \"1 0 0 0 0 0\" means \"class 1\", \"0 1 0 0 0 0\" means class 2, and so on\n",
    "print(Y_train[0]) #Prints the 6-dimensional output for the first training example"
   ]
  },
  {
   "cell_type": "code",
   "execution_count": 9,
   "metadata": {
    "scrolled": true,
    "pycharm": {
     "name": "#%%\n"
    }
   },
   "outputs": [
    {
     "name": "stdout",
     "output_type": "stream",
     "text": [
      "Metal device set to: Apple M1 Pro\n",
      "Epoch 1/30\n"
     ]
    },
    {
     "name": "stderr",
     "output_type": "stream",
     "text": [
      "2023-05-03 03:16:52.527841: W tensorflow/tsl/platform/profile_utils/cpu_utils.cc:128] Failed to get CPU frequency: 0 Hz\n"
     ]
    },
    {
     "name": "stdout",
     "output_type": "stream",
     "text": [
      "460/460 [==============================] - 11s 23ms/step - loss: 1.2790 - accuracy: 0.4618 - val_loss: 1.1568 - val_accuracy: 0.5141\n",
      "Epoch 2/30\n",
      "460/460 [==============================] - 10s 22ms/step - loss: 0.9037 - accuracy: 0.6115 - val_loss: 0.9212 - val_accuracy: 0.6084\n",
      "Epoch 3/30\n",
      "460/460 [==============================] - 10s 22ms/step - loss: 0.7466 - accuracy: 0.6793 - val_loss: 0.7537 - val_accuracy: 0.6939\n",
      "Epoch 4/30\n",
      "460/460 [==============================] - 10s 22ms/step - loss: 0.6835 - accuracy: 0.7070 - val_loss: 0.6849 - val_accuracy: 0.7360\n",
      "Epoch 5/30\n",
      "460/460 [==============================] - 10s 22ms/step - loss: 0.5477 - accuracy: 0.7769 - val_loss: 0.6508 - val_accuracy: 0.7251\n",
      "Epoch 6/30\n",
      "460/460 [==============================] - 10s 21ms/step - loss: 0.4802 - accuracy: 0.8255 - val_loss: 0.4746 - val_accuracy: 0.8242\n",
      "Epoch 7/30\n",
      "460/460 [==============================] - 10s 22ms/step - loss: 0.4611 - accuracy: 0.8323 - val_loss: 0.5629 - val_accuracy: 0.7642\n",
      "Epoch 8/30\n",
      "460/460 [==============================] - 11s 24ms/step - loss: 0.3651 - accuracy: 0.8758 - val_loss: 0.4737 - val_accuracy: 0.8392\n",
      "Epoch 9/30\n",
      "460/460 [==============================] - 10s 22ms/step - loss: 0.2312 - accuracy: 0.9268 - val_loss: 0.3233 - val_accuracy: 0.8789\n",
      "Epoch 10/30\n",
      "460/460 [==============================] - 10s 22ms/step - loss: 0.3014 - accuracy: 0.9014 - val_loss: 0.4042 - val_accuracy: 0.8300\n",
      "Epoch 11/30\n",
      "460/460 [==============================] - 10s 22ms/step - loss: 0.1958 - accuracy: 0.9373 - val_loss: 0.3254 - val_accuracy: 0.8863\n",
      "Epoch 12/30\n",
      "460/460 [==============================] - 10s 22ms/step - loss: 0.1774 - accuracy: 0.9372 - val_loss: 0.3238 - val_accuracy: 0.8863\n",
      "Epoch 13/30\n",
      "460/460 [==============================] - 11s 23ms/step - loss: 0.1667 - accuracy: 0.9418 - val_loss: 0.3649 - val_accuracy: 0.8894\n",
      "Epoch 14/30\n",
      "460/460 [==============================] - 10s 22ms/step - loss: 0.2090 - accuracy: 0.9327 - val_loss: 0.4038 - val_accuracy: 0.8809\n",
      "Epoch 15/30\n",
      "460/460 [==============================] - 10s 22ms/step - loss: 0.1507 - accuracy: 0.9467 - val_loss: 0.3307 - val_accuracy: 0.8867\n",
      "Epoch 16/30\n",
      "460/460 [==============================] - 11s 23ms/step - loss: 0.1469 - accuracy: 0.9459 - val_loss: 0.4011 - val_accuracy: 0.8707\n",
      "Epoch 17/30\n",
      "460/460 [==============================] - 11s 23ms/step - loss: 0.1368 - accuracy: 0.9499 - val_loss: 0.4102 - val_accuracy: 0.8694\n",
      "Epoch 18/30\n",
      "460/460 [==============================] - 11s 23ms/step - loss: 0.1491 - accuracy: 0.9484 - val_loss: 0.3414 - val_accuracy: 0.8907\n",
      "Epoch 19/30\n",
      "460/460 [==============================] - 11s 23ms/step - loss: 0.1700 - accuracy: 0.9402 - val_loss: 0.3082 - val_accuracy: 0.8992\n",
      "Epoch 20/30\n",
      "460/460 [==============================] - 11s 23ms/step - loss: 0.1902 - accuracy: 0.9323 - val_loss: 0.4347 - val_accuracy: 0.8629\n",
      "Epoch 21/30\n",
      "460/460 [==============================] - 11s 25ms/step - loss: 0.1468 - accuracy: 0.9479 - val_loss: 0.3517 - val_accuracy: 0.8924\n",
      "Epoch 22/30\n",
      "460/460 [==============================] - 11s 23ms/step - loss: 0.1383 - accuracy: 0.9513 - val_loss: 0.3770 - val_accuracy: 0.8809\n",
      "Epoch 23/30\n",
      "460/460 [==============================] - 11s 23ms/step - loss: 0.1457 - accuracy: 0.9472 - val_loss: 0.3784 - val_accuracy: 0.8873\n",
      "Epoch 24/30\n",
      "460/460 [==============================] - 11s 23ms/step - loss: 0.1387 - accuracy: 0.9502 - val_loss: 0.5352 - val_accuracy: 0.8711\n",
      "Epoch 25/30\n",
      "460/460 [==============================] - 11s 23ms/step - loss: 0.3164 - accuracy: 0.8924 - val_loss: 0.3473 - val_accuracy: 0.8867\n",
      "Epoch 26/30\n",
      "460/460 [==============================] - 10s 23ms/step - loss: 0.1629 - accuracy: 0.9449 - val_loss: 0.3205 - val_accuracy: 0.8914\n",
      "Epoch 27/30\n",
      "460/460 [==============================] - 10s 23ms/step - loss: 0.1298 - accuracy: 0.9531 - val_loss: 0.3467 - val_accuracy: 0.8945\n",
      "Epoch 28/30\n",
      "460/460 [==============================] - 10s 23ms/step - loss: 0.1371 - accuracy: 0.9499 - val_loss: 0.3388 - val_accuracy: 0.9009\n",
      "Epoch 29/30\n",
      "460/460 [==============================] - 10s 23ms/step - loss: 0.1213 - accuracy: 0.9520 - val_loss: 0.3575 - val_accuracy: 0.9023\n",
      "Epoch 30/30\n",
      "460/460 [==============================] - 10s 22ms/step - loss: 0.1208 - accuracy: 0.9524 - val_loss: 0.3188 - val_accuracy: 0.8999\n",
      "93/93 [==============================] - 1s 7ms/step\n",
      "Pred                LAYING  SITTING  STANDING  WALKING  WALKING_DOWNSTAIRS   \n",
      "True                                                                         \n",
      "LAYING                 510        0         0        0                   0  \\\n",
      "SITTING                  0      374       111        1                   2   \n",
      "STANDING                 0       82       447        2                   0   \n",
      "WALKING                  0        0         1      458                   3   \n",
      "WALKING_DOWNSTAIRS       0        0         0        2                 410   \n",
      "WALKING_UPSTAIRS         0        0         3       15                   0   \n",
      "\n",
      "Pred                WALKING_UPSTAIRS  \n",
      "True                                  \n",
      "LAYING                            27  \n",
      "SITTING                            3  \n",
      "STANDING                           1  \n",
      "WALKING                           34  \n",
      "WALKING_DOWNSTAIRS                 8  \n",
      "WALKING_UPSTAIRS                 453  \n"
     ]
    }
   ],
   "source": [
    "# This is where things get fun.\n",
    "\n",
    "# Set some parameters to control training\n",
    "# The number of epochs is the number of passes through the training data to make before you stop training\n",
    "epochs = 30 # Play with this; might especially want to increase it once you know things are basically working\n",
    "\n",
    "# The batch size is the number of examples to use to compute the gradient before updating the weights\n",
    "# If batch_size is the same as the training set size, we use the whole training set every time. This is called \"batch gradient descent\"\n",
    "# If batch_size is 1 then this is \"stochastic gradient descent\"\n",
    "# If batch_size is something in between, then this is called \"mini-batch\" gradient descent\n",
    "# Each choice will have different tradeoffs in terms of training time and ultimate accuracy, but there's no \"right way\" to do it\n",
    "# For more info, see https://machinelearningmastery.com/difference-between-a-batch-and-an-epoch/#:~:text=The%20batch%20size%20is%20a%20hyperparameter%20that%20defines%20the%20number,updating%20the%20internal%20model%20parameters.&text=When%20the%20batch%20size%20is,called%20mini%2Dbatch%20gradient%20descent. \n",
    "batch_size = 16 #You might want to play with this too\n",
    "\n",
    "#How many hidden neurons do we want?\n",
    "n_hidden = 32 #Feel free to change this\n",
    "\n",
    "\n",
    "#This is the Keras code for specifying the network architecture:\n",
    "model = Sequential()\n",
    "model.add(LSTM(n_hidden, input_shape=(timesteps, input_dim))) #an LSTM layer\n",
    "model.add(Dropout(0.5)) #This is a method to try to prevent overfitting. See more at https://machinelearningmastery.com/dropout-regularization-deep-learning-models-keras/\n",
    "model.add(Dense(n_classes, activation='sigmoid')) #a plain \"dense\" layer comes after the LSTM layer\n",
    "\n",
    "#This line specifies how to train this network.\n",
    "#You might want to play with these 3 values\n",
    "#see more at https://keras.io/api/losses/, https://keras.io/api/optimizers/, https://keras.io/api/metrics/\n",
    "model.compile(loss='categorical_crossentropy', \n",
    "              optimizer='adam',\n",
    "              metrics=['accuracy'])\n",
    "\n",
    "#This line of code actually trains the model\n",
    "model.fit(X_train,\n",
    "          Y_train,\n",
    "          batch_size=batch_size,\n",
    "          validation_data=(X_test, Y_test),\n",
    "          epochs=epochs)\n",
    "\n",
    "# Evaluate the model on the test data\n",
    "print(confusion_matrix(Y_test, model.predict(X_test)))"
   ]
  },
  {
   "cell_type": "markdown",
   "metadata": {
    "collapsed": true,
    "pycharm": {
     "name": "#%% md\n"
    }
   },
   "source": [
    "## Next steps: Experiment!\n",
    "\n",
    "### 1. Try digging into & tweaking the results above. ###\n",
    "\n",
    "* What happens with a different optimizer?\n",
    "* Can you edit the code to use a validation set with early stopping, as well?\n",
    "* What happens to the training accuracy, test/validation accuracy, and training time if you change the number of training examples?\n",
    "* What happens if you change the dropout?\n",
    "* Can you visualise this data (e.g., in Python using matplotlib, or in Excel) to get a sense of what it looks like?\n",
    "* What else might you print each epoch, instead of just accuracy and loss?\n",
    "* What else might you do if you were trying to release a commercial product that did this classification? How would you test it? How else might you edit the code to train your neural network? What would your main considerations be in deploying it?\n",
    "\n",
    "### 2. Do more reading about all the options available to you in Keras ###\n",
    "* https://keras.io/api/optimizers/\n",
    "* https://keras.io/api/metrics/\n",
    "* https://keras.io/api/losses/\n",
    "* Use the `?` operation in Python to learn more about your options in code (e.g., `?model.compile`)\n"
   ]
  },
  {
   "cell_type": "code",
   "execution_count": 10,
   "metadata": {
    "pycharm": {
     "name": "#%%\n"
    }
   },
   "outputs": [
    {
     "name": "stdout",
     "output_type": "stream",
     "text": [
      "Epoch 1/30\n",
      "460/460 [==============================] - 12s 24ms/step - loss: 1.3762 - accuracy: 0.3991 - val_loss: 1.2224 - val_accuracy: 0.4890\n",
      "Epoch 2/30\n",
      "460/460 [==============================] - 11s 23ms/step - loss: 1.0623 - accuracy: 0.5458 - val_loss: 0.9751 - val_accuracy: 0.6135\n",
      "Epoch 3/30\n",
      "460/460 [==============================] - 11s 23ms/step - loss: 0.8170 - accuracy: 0.6405 - val_loss: 0.8197 - val_accuracy: 0.6505\n",
      "Epoch 4/30\n",
      "460/460 [==============================] - 11s 23ms/step - loss: 0.7080 - accuracy: 0.6940 - val_loss: 0.7292 - val_accuracy: 0.7428\n",
      "Epoch 5/30\n",
      "460/460 [==============================] - 11s 23ms/step - loss: 0.6822 - accuracy: 0.7020 - val_loss: 0.7005 - val_accuracy: 0.7591\n",
      "Epoch 6/30\n",
      "460/460 [==============================] - 10s 23ms/step - loss: 0.6868 - accuracy: 0.6950 - val_loss: 0.6736 - val_accuracy: 0.7082\n",
      "Epoch 7/30\n",
      "460/460 [==============================] - 10s 23ms/step - loss: 0.7239 - accuracy: 0.7085 - val_loss: 0.6781 - val_accuracy: 0.7509\n",
      "Epoch 8/30\n",
      "460/460 [==============================] - 10s 23ms/step - loss: 0.5871 - accuracy: 0.7412 - val_loss: 0.6274 - val_accuracy: 0.7642\n",
      "Epoch 9/30\n",
      "460/460 [==============================] - 11s 23ms/step - loss: 0.6556 - accuracy: 0.7101 - val_loss: 0.7068 - val_accuracy: 0.7448\n",
      "Epoch 10/30\n",
      "460/460 [==============================] - 10s 23ms/step - loss: 0.7283 - accuracy: 0.6835 - val_loss: 0.8652 - val_accuracy: 0.6230\n",
      "Epoch 11/30\n",
      "460/460 [==============================] - 10s 23ms/step - loss: 0.8371 - accuracy: 0.6587 - val_loss: 0.8189 - val_accuracy: 0.6128\n",
      "Epoch 12/30\n",
      "460/460 [==============================] - 10s 23ms/step - loss: 0.6793 - accuracy: 0.7061 - val_loss: 0.7052 - val_accuracy: 0.7275\n",
      "Epoch 13/30\n",
      "460/460 [==============================] - 11s 23ms/step - loss: 0.6597 - accuracy: 0.7050 - val_loss: 0.6312 - val_accuracy: 0.7469\n",
      "Epoch 14/30\n",
      "460/460 [==============================] - 11s 23ms/step - loss: 0.7696 - accuracy: 0.6866 - val_loss: 0.8102 - val_accuracy: 0.5972\n",
      "Epoch 15/30\n",
      "460/460 [==============================] - 11s 23ms/step - loss: 0.7102 - accuracy: 0.6812 - val_loss: 0.7000 - val_accuracy: 0.6787\n",
      "Epoch 16/30\n",
      "460/460 [==============================] - 11s 23ms/step - loss: 0.5851 - accuracy: 0.7394 - val_loss: 0.5932 - val_accuracy: 0.7448\n",
      "Epoch 17/30\n",
      "460/460 [==============================] - 11s 23ms/step - loss: 0.8243 - accuracy: 0.6703 - val_loss: 0.6503 - val_accuracy: 0.7251\n",
      "Epoch 18/30\n",
      "460/460 [==============================] - 10s 23ms/step - loss: 0.5520 - accuracy: 0.7595 - val_loss: 0.5797 - val_accuracy: 0.7628\n",
      "Epoch 19/30\n",
      "460/460 [==============================] - 10s 23ms/step - loss: 0.5420 - accuracy: 0.7476 - val_loss: 0.7213 - val_accuracy: 0.7279\n",
      "Epoch 20/30\n",
      "460/460 [==============================] - 11s 24ms/step - loss: 0.5549 - accuracy: 0.7496 - val_loss: 0.5747 - val_accuracy: 0.7553\n",
      "Epoch 21/30\n",
      "460/460 [==============================] - 11s 23ms/step - loss: 0.5418 - accuracy: 0.7609 - val_loss: 0.5455 - val_accuracy: 0.7710\n",
      "Epoch 22/30\n",
      "460/460 [==============================] - 11s 23ms/step - loss: 0.4951 - accuracy: 0.7722 - val_loss: 0.5378 - val_accuracy: 0.7615\n",
      "Epoch 23/30\n",
      "460/460 [==============================] - 11s 23ms/step - loss: 0.4911 - accuracy: 0.7739 - val_loss: 0.5352 - val_accuracy: 0.7604\n",
      "Epoch 24/30\n",
      "460/460 [==============================] - 11s 23ms/step - loss: 0.4869 - accuracy: 0.7784 - val_loss: 0.5258 - val_accuracy: 0.7727\n",
      "Epoch 25/30\n",
      "460/460 [==============================] - 11s 24ms/step - loss: 0.5357 - accuracy: 0.7599 - val_loss: 0.7666 - val_accuracy: 0.6423\n",
      "Epoch 26/30\n",
      "460/460 [==============================] - 11s 23ms/step - loss: 0.4946 - accuracy: 0.7701 - val_loss: 0.5294 - val_accuracy: 0.7686\n",
      "Epoch 27/30\n",
      "460/460 [==============================] - 10s 23ms/step - loss: 0.4561 - accuracy: 0.7957 - val_loss: 0.5584 - val_accuracy: 0.7950\n",
      "Epoch 28/30\n",
      "460/460 [==============================] - 11s 24ms/step - loss: 0.4403 - accuracy: 0.7998 - val_loss: 0.6263 - val_accuracy: 0.7367\n",
      "Epoch 29/30\n",
      "460/460 [==============================] - 13s 28ms/step - loss: 0.4242 - accuracy: 0.8228 - val_loss: 0.5656 - val_accuracy: 0.8259\n",
      "Epoch 30/30\n",
      "460/460 [==============================] - 11s 25ms/step - loss: 0.4127 - accuracy: 0.8342 - val_loss: 0.4793 - val_accuracy: 0.8473\n",
      "93/93 [==============================] - 1s 7ms/step\n",
      "Pred                LAYING  SITTING  STANDING  WALKING  WALKING_DOWNSTAIRS   \n",
      "True                                                                         \n",
      "LAYING                 537        0         0        0                   0  \\\n",
      "SITTING                  0      431        54        2                   0   \n",
      "STANDING                 0      142       387        1                   2   \n",
      "WALKING                  0        1         0      358                 109   \n",
      "WALKING_DOWNSTAIRS       0        2         4       22                 384   \n",
      "WALKING_UPSTAIRS         0        2         0       55                  14   \n",
      "\n",
      "Pred                WALKING_UPSTAIRS  \n",
      "True                                  \n",
      "LAYING                             0  \n",
      "SITTING                            4  \n",
      "STANDING                           0  \n",
      "WALKING                           28  \n",
      "WALKING_DOWNSTAIRS                 8  \n",
      "WALKING_UPSTAIRS                 400  \n"
     ]
    }
   ],
   "source": [
    "model = Sequential()\n",
    "model.add(LSTM(n_hidden, input_shape=(timesteps, input_dim))) #an LSTM layer\n",
    "model.add(Dropout(0.9)) #This is a method to try to prevent overfitting. See more at https://machinelearningmastery.com/dropout-regularization-deep-learning-models-keras/\n",
    "model.add(Dense(n_classes, activation='sigmoid')) #a plain \"dense\" layer comes after the LSTM layer\n",
    "\n",
    "#This line specifies how to train this network.\n",
    "#You might want to play with these 3 values\n",
    "#see more at https://keras.io/api/losses/, https://keras.io/api/optimizers/, https://keras.io/api/metrics/\n",
    "model.compile(loss='categorical_crossentropy',\n",
    "              optimizer='adam',\n",
    "              metrics=['accuracy'])\n",
    "\n",
    "#This line of code actually trains the model\n",
    "model.fit(X_train,\n",
    "          Y_train,\n",
    "          batch_size=batch_size,\n",
    "          validation_data=(X_test, Y_test),\n",
    "          epochs=epochs)\n",
    "\n",
    "# Evaluate the model on the test data\n",
    "print(confusion_matrix(Y_test, model.predict(X_test)))"
   ]
  },
  {
   "cell_type": "code",
   "execution_count": 11,
   "outputs": [
    {
     "name": "stdout",
     "output_type": "stream",
     "text": [
      "Epoch 1/30\n",
      "460/460 [==============================] - 13s 26ms/step - loss: 1.0561 - accuracy: 0.5687 - val_loss: 0.8333 - val_accuracy: 0.6729\n",
      "Epoch 2/30\n",
      "460/460 [==============================] - 11s 25ms/step - loss: 0.7713 - accuracy: 0.6863 - val_loss: 0.7600 - val_accuracy: 0.7055\n",
      "Epoch 3/30\n",
      "460/460 [==============================] - 11s 25ms/step - loss: 0.5147 - accuracy: 0.8173 - val_loss: 0.5821 - val_accuracy: 0.7872\n",
      "Epoch 4/30\n",
      "460/460 [==============================] - 11s 25ms/step - loss: 0.4065 - accuracy: 0.8649 - val_loss: 0.4735 - val_accuracy: 0.8398\n",
      "Epoch 5/30\n",
      "460/460 [==============================] - 11s 24ms/step - loss: 0.3210 - accuracy: 0.8911 - val_loss: 0.4362 - val_accuracy: 0.8510\n",
      "Epoch 6/30\n",
      "460/460 [==============================] - 11s 25ms/step - loss: 0.2424 - accuracy: 0.9189 - val_loss: 0.4267 - val_accuracy: 0.8666\n",
      "Epoch 7/30\n",
      "460/460 [==============================] - 11s 25ms/step - loss: 0.1951 - accuracy: 0.9306 - val_loss: 0.3764 - val_accuracy: 0.8765\n",
      "Epoch 8/30\n",
      "460/460 [==============================] - 11s 25ms/step - loss: 0.1877 - accuracy: 0.9291 - val_loss: 0.4723 - val_accuracy: 0.8303\n",
      "Epoch 9/30\n",
      "460/460 [==============================] - 11s 25ms/step - loss: 0.1925 - accuracy: 0.9325 - val_loss: 0.4251 - val_accuracy: 0.8778\n",
      "Epoch 10/30\n",
      "460/460 [==============================] - 11s 25ms/step - loss: 0.1727 - accuracy: 0.9388 - val_loss: 0.3135 - val_accuracy: 0.8894\n",
      "Epoch 11/30\n",
      "460/460 [==============================] - 11s 25ms/step - loss: 0.1500 - accuracy: 0.9442 - val_loss: 0.3691 - val_accuracy: 0.8867\n",
      "Epoch 12/30\n",
      "460/460 [==============================] - 11s 25ms/step - loss: 0.1725 - accuracy: 0.9343 - val_loss: 0.3874 - val_accuracy: 0.8931\n",
      "Epoch 13/30\n",
      "460/460 [==============================] - 12s 25ms/step - loss: 0.1591 - accuracy: 0.9391 - val_loss: 0.3065 - val_accuracy: 0.8860\n",
      "Epoch 14/30\n",
      "460/460 [==============================] - 11s 24ms/step - loss: 0.1374 - accuracy: 0.9460 - val_loss: 0.3186 - val_accuracy: 0.8799\n",
      "Epoch 15/30\n",
      "460/460 [==============================] - 12s 25ms/step - loss: 0.1426 - accuracy: 0.9459 - val_loss: 0.3076 - val_accuracy: 0.8941\n",
      "Epoch 16/30\n",
      "460/460 [==============================] - 11s 25ms/step - loss: 0.1281 - accuracy: 0.9509 - val_loss: 0.3214 - val_accuracy: 0.8968\n",
      "Epoch 17/30\n",
      "460/460 [==============================] - 11s 24ms/step - loss: 0.1345 - accuracy: 0.9459 - val_loss: 0.2895 - val_accuracy: 0.8938\n",
      "Epoch 18/30\n",
      "460/460 [==============================] - 11s 25ms/step - loss: 0.1502 - accuracy: 0.9487 - val_loss: 0.3297 - val_accuracy: 0.9016\n",
      "Epoch 19/30\n",
      "460/460 [==============================] - 11s 24ms/step - loss: 0.1277 - accuracy: 0.9518 - val_loss: 0.3080 - val_accuracy: 0.9050\n",
      "Epoch 20/30\n",
      "460/460 [==============================] - 11s 25ms/step - loss: 0.1175 - accuracy: 0.9525 - val_loss: 0.3446 - val_accuracy: 0.8972\n",
      "Epoch 21/30\n",
      "460/460 [==============================] - 11s 25ms/step - loss: 0.1719 - accuracy: 0.9402 - val_loss: 0.4672 - val_accuracy: 0.8402\n",
      "Epoch 22/30\n",
      "460/460 [==============================] - 11s 24ms/step - loss: 0.1614 - accuracy: 0.9416 - val_loss: 0.3194 - val_accuracy: 0.9019\n",
      "Epoch 23/30\n",
      "460/460 [==============================] - 11s 24ms/step - loss: 0.1389 - accuracy: 0.9457 - val_loss: 0.3432 - val_accuracy: 0.8941\n",
      "Epoch 24/30\n",
      "460/460 [==============================] - 11s 25ms/step - loss: 0.1300 - accuracy: 0.9502 - val_loss: 0.3140 - val_accuracy: 0.8989\n",
      "Epoch 25/30\n",
      "460/460 [==============================] - 11s 25ms/step - loss: 0.1269 - accuracy: 0.9499 - val_loss: 0.2970 - val_accuracy: 0.9023\n",
      "Epoch 26/30\n",
      "460/460 [==============================] - 12s 27ms/step - loss: 0.1185 - accuracy: 0.9508 - val_loss: 0.2907 - val_accuracy: 0.9084\n",
      "Epoch 27/30\n",
      "460/460 [==============================] - 12s 26ms/step - loss: 0.1294 - accuracy: 0.9494 - val_loss: 0.2924 - val_accuracy: 0.8914\n",
      "Epoch 28/30\n",
      "460/460 [==============================] - 12s 25ms/step - loss: 0.1233 - accuracy: 0.9478 - val_loss: 0.3033 - val_accuracy: 0.8935\n",
      "Epoch 29/30\n",
      "460/460 [==============================] - 11s 25ms/step - loss: 0.1135 - accuracy: 0.9514 - val_loss: 0.3056 - val_accuracy: 0.9030\n",
      "Epoch 30/30\n",
      "460/460 [==============================] - 11s 25ms/step - loss: 0.1122 - accuracy: 0.9513 - val_loss: 0.3075 - val_accuracy: 0.8996\n",
      "93/93 [==============================] - 1s 7ms/step\n",
      "Pred                LAYING  SITTING  STANDING  WALKING  WALKING_DOWNSTAIRS   \n",
      "True                                                                         \n",
      "LAYING                 510        0         0        1                   0  \\\n",
      "SITTING                  0      422        52        0                   0   \n",
      "STANDING                 0      114       418        0                   0   \n",
      "WALKING                  0        0         1      452                  23   \n",
      "WALKING_DOWNSTAIRS       0        0         0        3                 410   \n",
      "WALKING_UPSTAIRS         2        1         1       24                   4   \n",
      "\n",
      "Pred                WALKING_UPSTAIRS  \n",
      "True                                  \n",
      "LAYING                            26  \n",
      "SITTING                           17  \n",
      "STANDING                           0  \n",
      "WALKING                           20  \n",
      "WALKING_DOWNSTAIRS                 7  \n",
      "WALKING_UPSTAIRS                 439  \n"
     ]
    }
   ],
   "source": [
    "model = Sequential()\n",
    "model.add(LSTM(n_hidden, input_shape=(timesteps, input_dim))) #an LSTM layer\n",
    "model.add(Dropout(0.1)) #This is a method to try to prevent overfitting. See more at https://machinelearningmastery.com/dropout-regularization-deep-learning-models-keras/\n",
    "model.add(Dense(n_classes, activation='sigmoid')) #a plain \"dense\" layer comes after the LSTM layer\n",
    "\n",
    "#This line specifies how to train this network.\n",
    "#You might want to play with these 3 values\n",
    "#see more at https://keras.io/api/losses/, https://keras.io/api/optimizers/, https://keras.io/api/metrics/\n",
    "model.compile(loss='categorical_crossentropy',\n",
    "              optimizer='adam',\n",
    "              metrics=['accuracy'])\n",
    "\n",
    "#This line of code actually trains the model\n",
    "model.fit(X_train,\n",
    "          Y_train,\n",
    "          batch_size=batch_size,\n",
    "          validation_data=(X_test, Y_test),\n",
    "          epochs=epochs)\n",
    "\n",
    "# Evaluate the model on the test data\n",
    "print(confusion_matrix(Y_test, model.predict(X_test)))"
   ],
   "metadata": {
    "collapsed": false,
    "pycharm": {
     "name": "#%%\n"
    }
   }
  },
  {
   "cell_type": "code",
   "execution_count": null,
   "outputs": [],
   "source": [],
   "metadata": {
    "collapsed": false,
    "pycharm": {
     "name": "#%%\n"
    }
   }
  }
 ],
 "metadata": {
  "kernelspec": {
   "display_name": "Python 3 (ipykernel)",
   "language": "python",
   "name": "python3"
  },
  "language_info": {
   "codemirror_mode": {
    "name": "ipython",
    "version": 3
   },
   "file_extension": ".py",
   "mimetype": "text/x-python",
   "name": "python",
   "nbconvert_exporter": "python",
   "pygments_lexer": "ipython3",
   "version": "3.9.16"
  }
 },
 "nbformat": 4,
 "nbformat_minor": 1
}