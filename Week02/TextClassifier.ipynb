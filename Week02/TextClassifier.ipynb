{
 "cells": [
  {
   "cell_type": "markdown",
   "metadata": {
    "id": "s8a_TDA0eOtn",
    "pycharm": {
     "name": "#%% md\n"
    }
   },
   "source": [
    "# Intro to simple text classification in keras"
   ]
  },
  {
   "cell_type": "code",
   "execution_count": 1,
   "metadata": {
    "id": "iX-_2g9yeOtp",
    "pycharm": {
     "name": "#%%\n"
    }
   },
   "outputs": [],
   "source": [
    "# Do our imports\n",
    "import numpy as np\n",
    "import tensorflow as tf\n",
    "from keras.models import Sequential #base keras model\n",
    "from keras.layers import Dense, Activation #dense = fully connected layer\n",
    "# from tensorflow.keras.optimizers.legacy import SGD #this is just tensorflow.keras.optimizers on earlier versions of tf"
   ]
  },
  {
   "cell_type": "code",
   "execution_count": 7,
   "outputs": [
    {
     "name": "stdout",
     "output_type": "stream",
     "text": [
      "hello world\n"
     ]
    }
   ],
   "source": [
    "print(\"hello world\")"
   ],
   "metadata": {
    "collapsed": false,
    "pycharm": {
     "name": "#%%\n"
    }
   }
  },
  {
   "cell_type": "markdown",
   "metadata": {
    "pycharm": {
     "name": "#%% md\n"
    }
   },
   "source": [
    "Note: The following cell will give you an error like \"No module named 'matplotlib'\" if you have not yet installed matplotlib or sklearn. To install it, open up a terminal/command window, activate your environment (e.g., `conda activate coding3`), and then type `conda install matplotlib` and `conda install scikit-learn`\n",
    "\n",
    "You may have to restart the kernel if the cell does not complete running after you install.\n",
    "\n",
    "Note that you will only ever have to do this once per environment (e.g., from now on, when you run a new notebook that imports from matplotlib using this same environment, it will also be able to use that library; no need to install again)"
   ]
  },
  {
   "cell_type": "code",
   "execution_count": 8,
   "metadata": {
    "id": "zRW0av17eOtt",
    "pycharm": {
     "name": "#%%\n"
    }
   },
   "outputs": [],
   "source": [
    "#if any of these give you problems, make sure you've installed all libraries used (pandas, sklearn, and matplot lib)\n",
    "# using conda install or pip install\n",
    "# see the moodle page \"Instructions for setting up and using Python and Jupyter\" for more info on how to do this\n",
    "import pandas as pd\n",
    "import matplotlib\n",
    "from sklearn.feature_extraction import _stop_words\n",
    "from sklearn.metrics.pairwise import cosine_similarity as cosine\n",
    "from sklearn.feature_extraction.text import TfidfVectorizer\n",
    "from sklearn.feature_extraction.text import CountVectorizer\n",
    "from sklearn.feature_extraction.text import TfidfTransformer\n",
    "from sklearn.decomposition import TruncatedSVD\n",
    "from sklearn.model_selection import train_test_split\n",
    "import matplotlib.pyplot as plt"
   ]
  },
  {
   "cell_type": "code",
   "execution_count": 9,
   "outputs": [],
   "source": [
    "INPUT = \"a\"\n",
    "OUTPUT = \"0\""
   ],
   "metadata": {
    "collapsed": false,
    "pycharm": {
     "name": "#%%\n"
    }
   }
  },
  {
   "cell_type": "markdown",
   "metadata": {
    "id": "hwhcWbk_eOtt",
    "pycharm": {
     "name": "#%% md\n"
    }
   },
   "source": [
    "## Loading a dataset\n",
    "\n",
    "We're going to use a small set of 1000 movie reviews from IMDB. [The original dataset can be found here.](https://www.kaggle.com/datasets/lakshmi25npathi/imdb-dataset-of-50k-movie-reviews?resource=download) \n",
    "\n",
    "Here's how to load in the dataset into the notebook:"
   ]
  },
  {
   "cell_type": "code",
   "execution_count": 10,
   "metadata": {
    "id": "KM6fXWZafsod",
    "pycharm": {
     "name": "#%%\n"
    }
   },
   "outputs": [],
   "source": [
    "# This assumes the IMDBsubset.csv file lives in a directory called \"data\" which lives in the same directory as this notebook.\n",
    "# ***if you want to edit this notebook to use a different dataset, edit this to specify a different file:\n",
    "df = pd.read_csv(\"data/cancer.csv\", encoding='ISO-8859-1')\n",
    "df.to_csv('data/cancer_utf8.csv', index=False, encoding='utf-8')\n",
    "df = pd.read_csv(\"data/cancer_utf8.csv\")"
   ]
  },
  {
   "cell_type": "markdown",
   "metadata": {
    "pycharm": {
     "name": "#%% md\n"
    }
   },
   "source": [
    "Now we've got the data read in! We've used a special data type called a \"data frame\", using the Pandas library, to store this data. Pandas makes working with data pretty convenient.\n",
    "\n",
    "Printing df will show you the data in a table-like format (specifically, it'll show you the first and last few rows of the table).\n",
    "\n",
    "**Note that a sentiment of \"1\" means \"positive\" and \"0\" means \"negative\"**"
   ]
  },
  {
   "cell_type": "code",
   "execution_count": 11,
   "metadata": {
    "scrolled": true,
    "pycharm": {
     "name": "#%%\n"
    }
   },
   "outputs": [
    {
     "data": {
      "text/plain": "      Unnamed: 0               0   \n0              0  Thyroid_Cancer  \\\n1              1  Thyroid_Cancer   \n2              2  Thyroid_Cancer   \n3              3  Thyroid_Cancer   \n4              4  Thyroid_Cancer   \n...          ...             ...   \n7565        7565    Colon_Cancer   \n7566        7566    Colon_Cancer   \n7567        7567    Colon_Cancer   \n7568        7568    Colon_Cancer   \n7569        7569    Colon_Cancer   \n\n                                                      a  \n0     Thyroid surgery in  children in a single insti...  \n1     \" The adopted strategy was the same as that us...  \n2     coronary arterybypass grafting thrombosis ï¬b...  \n3      Solitary plasmacytoma SP of the skull is an u...  \n4      This study aimed to investigate serum matrix ...  \n...                                                 ...  \n7565  we report the case of a 24yearold man who pres...  \n7566  among synchronous colorectal cancers scrcs rep...  \n7567  the heterogeneity of cancer cells is generally...  \n7568  \"adipogenesis is the process through which mes...  \n7569  the periparturient period is one of the most c...  \n\n[7570 rows x 3 columns]",
      "text/html": "<div>\n<style scoped>\n    .dataframe tbody tr th:only-of-type {\n        vertical-align: middle;\n    }\n\n    .dataframe tbody tr th {\n        vertical-align: top;\n    }\n\n    .dataframe thead th {\n        text-align: right;\n    }\n</style>\n<table border=\"1\" class=\"dataframe\">\n  <thead>\n    <tr style=\"text-align: right;\">\n      <th></th>\n      <th>Unnamed: 0</th>\n      <th>0</th>\n      <th>a</th>\n    </tr>\n  </thead>\n  <tbody>\n    <tr>\n      <th>0</th>\n      <td>0</td>\n      <td>Thyroid_Cancer</td>\n      <td>Thyroid surgery in  children in a single insti...</td>\n    </tr>\n    <tr>\n      <th>1</th>\n      <td>1</td>\n      <td>Thyroid_Cancer</td>\n      <td>\" The adopted strategy was the same as that us...</td>\n    </tr>\n    <tr>\n      <th>2</th>\n      <td>2</td>\n      <td>Thyroid_Cancer</td>\n      <td>coronary arterybypass grafting thrombosis ï¬b...</td>\n    </tr>\n    <tr>\n      <th>3</th>\n      <td>3</td>\n      <td>Thyroid_Cancer</td>\n      <td>Solitary plasmacytoma SP of the skull is an u...</td>\n    </tr>\n    <tr>\n      <th>4</th>\n      <td>4</td>\n      <td>Thyroid_Cancer</td>\n      <td>This study aimed to investigate serum matrix ...</td>\n    </tr>\n    <tr>\n      <th>...</th>\n      <td>...</td>\n      <td>...</td>\n      <td>...</td>\n    </tr>\n    <tr>\n      <th>7565</th>\n      <td>7565</td>\n      <td>Colon_Cancer</td>\n      <td>we report the case of a 24yearold man who pres...</td>\n    </tr>\n    <tr>\n      <th>7566</th>\n      <td>7566</td>\n      <td>Colon_Cancer</td>\n      <td>among synchronous colorectal cancers scrcs rep...</td>\n    </tr>\n    <tr>\n      <th>7567</th>\n      <td>7567</td>\n      <td>Colon_Cancer</td>\n      <td>the heterogeneity of cancer cells is generally...</td>\n    </tr>\n    <tr>\n      <th>7568</th>\n      <td>7568</td>\n      <td>Colon_Cancer</td>\n      <td>\"adipogenesis is the process through which mes...</td>\n    </tr>\n    <tr>\n      <th>7569</th>\n      <td>7569</td>\n      <td>Colon_Cancer</td>\n      <td>the periparturient period is one of the most c...</td>\n    </tr>\n  </tbody>\n</table>\n<p>7570 rows × 3 columns</p>\n</div>"
     },
     "execution_count": 11,
     "metadata": {},
     "output_type": "execute_result"
    }
   ],
   "source": [
    "df"
   ]
  },
  {
   "cell_type": "markdown",
   "metadata": {
    "pycharm": {
     "name": "#%% md\n"
    }
   },
   "source": [
    "This is great, but if we want to read the full reviews (handy for later) then we can change our display options:"
   ]
  },
  {
   "cell_type": "code",
   "execution_count": null,
   "metadata": {
    "pycharm": {
     "name": "#%%\n",
     "is_executing": true
    }
   },
   "outputs": [],
   "source": [
    "from sklearn.utils import shuffle\n",
    "\n",
    "pd.set_option('display.max_colwidth', None) #show me everything in the column, even if it's long!\n",
    "df = shuffle(df)\n",
    "df #Show me the first and last few examples"
   ]
  },
  {
   "cell_type": "markdown",
   "metadata": {
    "pycharm": {
     "name": "#%% md\n"
    }
   },
   "source": [
    "Let's do something super simple to transform this into a dataset that we can send to a neural network. \n",
    "\n",
    "Similarly to the sentiment classification we discussed in lecture last week, we're going to represent each example (review) as a vector of word counts.\n",
    "\n",
    "The CountVectorizer object from sklearn allows us to make these word count vectors pretty easily. Once we do the counts, we'll store these in a new dataframe.\n",
    "\n",
    "\n",
    "The following code transforms a review dataframe to a word count dataframe called wordcounts."
   ]
  },
  {
   "cell_type": "code",
   "execution_count": 13,
   "metadata": {
    "pycharm": {
     "name": "#%%\n"
    }
   },
   "outputs": [],
   "source": [
    "# Transform a dataframe containing a column named \"review\" \n",
    "# such that each row becomes represented by a set of word counts, corresponding to the number of each term in the review\n",
    "\n",
    "#These next two lines perform word counting:\n",
    "vectorizer = CountVectorizer(stop_words='english', min_df=0.01)\n",
    "#stop_words='english' removes very common english words that are unlikely to be useful (e.g. \"and\", \"the\")\n",
    "#min_df=0.1 removes very rare words that are likely to be typos, uninformative, etc.\n",
    "# You can type ?CountVectorizer in its own cell to read its documentation\n",
    "#***Note that \"df['review']\" is used below because \"review\" is the name of the column containing our text in the dataframe\n",
    "#If you apply this to your own data, you may probably need to change this column name!\n",
    "matrix = vectorizer.fit_transform(df[INPUT])\n",
    "    \n",
    "#This line converts matrix into another dataframe, with column names corresponding to the word being counted\n",
    "data = pd.DataFrame(matrix.toarray(), columns=vectorizer.get_feature_names_out())"
   ]
  },
  {
   "cell_type": "markdown",
   "metadata": {
    "pycharm": {
     "name": "#%% md\n"
    }
   },
   "source": [
    "Take a look at the data:"
   ]
  },
  {
   "cell_type": "code",
   "execution_count": 14,
   "metadata": {
    "scrolled": false,
    "pycharm": {
     "name": "#%%\n"
    }
   },
   "outputs": [
    {
     "data": {
      "text/plain": "      00  000  0001  001  002  003  004  005  006  007  ...  î²  î²actin   \n0      1    0     0    0    0    0    0    0    0    0  ...   0        0  \\\n1      0    0     1    2    0    0    0    0    0    0  ...   0        0   \n2      0    0     0    0    0    0    0    0    0    0  ...   0        0   \n3      0    0     0    0    0    0    0    0    0    0  ...   0        0   \n4      0    0     0    0    0    0    0    0    0    0  ...   0        0   \n...   ..  ...   ...  ...  ...  ...  ...  ...  ...  ...  ...  ..      ...   \n7565   0    0     0    0    0    0    0    0    0    0  ...   0        0   \n7566   0    0     0    0    0    0    0    0    0    0  ...   0        0   \n7567   4    0     0    0    0    0    0    0    0    0  ...   0        0   \n7568   1    0     0    0    0    0    0    0    1    0  ...   0        0   \n7569   0    0     0    0    0    0    0    0    0    0  ...   0        0   \n\n      î²catenin  î³  î³h2ax  îºb  î¼g  î¼gml  î¼l  î¼m  \n0             0   0       0    0    0      0    0    0  \n1             0   0       0    0    0      0    0    0  \n2             0   0       0    0    0      0    0    0  \n3             0   0       0    0    0      0    0    0  \n4             0   0       0    0    0      0    0    0  \n...         ...  ..     ...  ...  ...    ...  ...  ...  \n7565          0   0       0    0    1      4    4    1  \n7566          0   0       0    0    0      0    0    0  \n7567          0   0       0    0    0      0    0    0  \n7568          0   0       0    0    0      0    0    0  \n7569          0   0       0    0    0      0    0    0  \n\n[7570 rows x 11203 columns]",
      "text/html": "<div>\n<style scoped>\n    .dataframe tbody tr th:only-of-type {\n        vertical-align: middle;\n    }\n\n    .dataframe tbody tr th {\n        vertical-align: top;\n    }\n\n    .dataframe thead th {\n        text-align: right;\n    }\n</style>\n<table border=\"1\" class=\"dataframe\">\n  <thead>\n    <tr style=\"text-align: right;\">\n      <th></th>\n      <th>00</th>\n      <th>000</th>\n      <th>0001</th>\n      <th>001</th>\n      <th>002</th>\n      <th>003</th>\n      <th>004</th>\n      <th>005</th>\n      <th>006</th>\n      <th>007</th>\n      <th>...</th>\n      <th>î²</th>\n      <th>î²actin</th>\n      <th>î²catenin</th>\n      <th>î³</th>\n      <th>î³h2ax</th>\n      <th>îºb</th>\n      <th>î¼g</th>\n      <th>î¼gml</th>\n      <th>î¼l</th>\n      <th>î¼m</th>\n    </tr>\n  </thead>\n  <tbody>\n    <tr>\n      <th>0</th>\n      <td>1</td>\n      <td>0</td>\n      <td>0</td>\n      <td>0</td>\n      <td>0</td>\n      <td>0</td>\n      <td>0</td>\n      <td>0</td>\n      <td>0</td>\n      <td>0</td>\n      <td>...</td>\n      <td>0</td>\n      <td>0</td>\n      <td>0</td>\n      <td>0</td>\n      <td>0</td>\n      <td>0</td>\n      <td>0</td>\n      <td>0</td>\n      <td>0</td>\n      <td>0</td>\n    </tr>\n    <tr>\n      <th>1</th>\n      <td>0</td>\n      <td>0</td>\n      <td>1</td>\n      <td>2</td>\n      <td>0</td>\n      <td>0</td>\n      <td>0</td>\n      <td>0</td>\n      <td>0</td>\n      <td>0</td>\n      <td>...</td>\n      <td>0</td>\n      <td>0</td>\n      <td>0</td>\n      <td>0</td>\n      <td>0</td>\n      <td>0</td>\n      <td>0</td>\n      <td>0</td>\n      <td>0</td>\n      <td>0</td>\n    </tr>\n    <tr>\n      <th>2</th>\n      <td>0</td>\n      <td>0</td>\n      <td>0</td>\n      <td>0</td>\n      <td>0</td>\n      <td>0</td>\n      <td>0</td>\n      <td>0</td>\n      <td>0</td>\n      <td>0</td>\n      <td>...</td>\n      <td>0</td>\n      <td>0</td>\n      <td>0</td>\n      <td>0</td>\n      <td>0</td>\n      <td>0</td>\n      <td>0</td>\n      <td>0</td>\n      <td>0</td>\n      <td>0</td>\n    </tr>\n    <tr>\n      <th>3</th>\n      <td>0</td>\n      <td>0</td>\n      <td>0</td>\n      <td>0</td>\n      <td>0</td>\n      <td>0</td>\n      <td>0</td>\n      <td>0</td>\n      <td>0</td>\n      <td>0</td>\n      <td>...</td>\n      <td>0</td>\n      <td>0</td>\n      <td>0</td>\n      <td>0</td>\n      <td>0</td>\n      <td>0</td>\n      <td>0</td>\n      <td>0</td>\n      <td>0</td>\n      <td>0</td>\n    </tr>\n    <tr>\n      <th>4</th>\n      <td>0</td>\n      <td>0</td>\n      <td>0</td>\n      <td>0</td>\n      <td>0</td>\n      <td>0</td>\n      <td>0</td>\n      <td>0</td>\n      <td>0</td>\n      <td>0</td>\n      <td>...</td>\n      <td>0</td>\n      <td>0</td>\n      <td>0</td>\n      <td>0</td>\n      <td>0</td>\n      <td>0</td>\n      <td>0</td>\n      <td>0</td>\n      <td>0</td>\n      <td>0</td>\n    </tr>\n    <tr>\n      <th>...</th>\n      <td>...</td>\n      <td>...</td>\n      <td>...</td>\n      <td>...</td>\n      <td>...</td>\n      <td>...</td>\n      <td>...</td>\n      <td>...</td>\n      <td>...</td>\n      <td>...</td>\n      <td>...</td>\n      <td>...</td>\n      <td>...</td>\n      <td>...</td>\n      <td>...</td>\n      <td>...</td>\n      <td>...</td>\n      <td>...</td>\n      <td>...</td>\n      <td>...</td>\n      <td>...</td>\n    </tr>\n    <tr>\n      <th>7565</th>\n      <td>0</td>\n      <td>0</td>\n      <td>0</td>\n      <td>0</td>\n      <td>0</td>\n      <td>0</td>\n      <td>0</td>\n      <td>0</td>\n      <td>0</td>\n      <td>0</td>\n      <td>...</td>\n      <td>0</td>\n      <td>0</td>\n      <td>0</td>\n      <td>0</td>\n      <td>0</td>\n      <td>0</td>\n      <td>1</td>\n      <td>4</td>\n      <td>4</td>\n      <td>1</td>\n    </tr>\n    <tr>\n      <th>7566</th>\n      <td>0</td>\n      <td>0</td>\n      <td>0</td>\n      <td>0</td>\n      <td>0</td>\n      <td>0</td>\n      <td>0</td>\n      <td>0</td>\n      <td>0</td>\n      <td>0</td>\n      <td>...</td>\n      <td>0</td>\n      <td>0</td>\n      <td>0</td>\n      <td>0</td>\n      <td>0</td>\n      <td>0</td>\n      <td>0</td>\n      <td>0</td>\n      <td>0</td>\n      <td>0</td>\n    </tr>\n    <tr>\n      <th>7567</th>\n      <td>4</td>\n      <td>0</td>\n      <td>0</td>\n      <td>0</td>\n      <td>0</td>\n      <td>0</td>\n      <td>0</td>\n      <td>0</td>\n      <td>0</td>\n      <td>0</td>\n      <td>...</td>\n      <td>0</td>\n      <td>0</td>\n      <td>0</td>\n      <td>0</td>\n      <td>0</td>\n      <td>0</td>\n      <td>0</td>\n      <td>0</td>\n      <td>0</td>\n      <td>0</td>\n    </tr>\n    <tr>\n      <th>7568</th>\n      <td>1</td>\n      <td>0</td>\n      <td>0</td>\n      <td>0</td>\n      <td>0</td>\n      <td>0</td>\n      <td>0</td>\n      <td>0</td>\n      <td>1</td>\n      <td>0</td>\n      <td>...</td>\n      <td>0</td>\n      <td>0</td>\n      <td>0</td>\n      <td>0</td>\n      <td>0</td>\n      <td>0</td>\n      <td>0</td>\n      <td>0</td>\n      <td>0</td>\n      <td>0</td>\n    </tr>\n    <tr>\n      <th>7569</th>\n      <td>0</td>\n      <td>0</td>\n      <td>0</td>\n      <td>0</td>\n      <td>0</td>\n      <td>0</td>\n      <td>0</td>\n      <td>0</td>\n      <td>0</td>\n      <td>0</td>\n      <td>...</td>\n      <td>0</td>\n      <td>0</td>\n      <td>0</td>\n      <td>0</td>\n      <td>0</td>\n      <td>0</td>\n      <td>0</td>\n      <td>0</td>\n      <td>0</td>\n      <td>0</td>\n    </tr>\n  </tbody>\n</table>\n<p>7570 rows × 11203 columns</p>\n</div>"
     },
     "execution_count": 14,
     "metadata": {},
     "output_type": "execute_result"
    }
   ],
   "source": [
    "data #prints data to screen"
   ]
  },
  {
   "cell_type": "markdown",
   "metadata": {
    "pycharm": {
     "name": "#%% md\n"
    }
   },
   "source": [
    "Note that you can examine this dataset, e.g. to look at the column of counts for the word \"wonderful\":"
   ]
  },
  {
   "cell_type": "code",
   "execution_count": 15,
   "metadata": {
    "scrolled": true,
    "pycharm": {
     "name": "#%%\n"
    }
   },
   "outputs": [
    {
     "data": {
      "text/plain": "0       0\n1       0\n2       0\n3       0\n4       4\n       ..\n7565    0\n7566    0\n7567    0\n7568    0\n7569    0\nName: pain, Length: 7570, dtype: int64"
     },
     "execution_count": 15,
     "metadata": {},
     "output_type": "execute_result"
    }
   ],
   "source": [
    "data[\"pain\"]"
   ]
  },
  {
   "cell_type": "code",
   "execution_count": 16,
   "metadata": {
    "pycharm": {
     "name": "#%%\n"
    }
   },
   "outputs": [
    {
     "ename": "KeyError",
     "evalue": "'wonderful'",
     "output_type": "error",
     "traceback": [
      "\u001B[0;31m---------------------------------------------------------------------------\u001B[0m",
      "\u001B[0;31mKeyError\u001B[0m                                  Traceback (most recent call last)",
      "File \u001B[0;32m~/miniforge3/envs/CC-Coding-Three/lib/python3.10/site-packages/pandas/core/indexes/base.py:3652\u001B[0m, in \u001B[0;36mIndex.get_loc\u001B[0;34m(self, key)\u001B[0m\n\u001B[1;32m   3651\u001B[0m \u001B[38;5;28;01mtry\u001B[39;00m:\n\u001B[0;32m-> 3652\u001B[0m     \u001B[38;5;28;01mreturn\u001B[39;00m \u001B[38;5;28;43mself\u001B[39;49m\u001B[38;5;241;43m.\u001B[39;49m\u001B[43m_engine\u001B[49m\u001B[38;5;241;43m.\u001B[39;49m\u001B[43mget_loc\u001B[49m\u001B[43m(\u001B[49m\u001B[43mcasted_key\u001B[49m\u001B[43m)\u001B[49m\n\u001B[1;32m   3653\u001B[0m \u001B[38;5;28;01mexcept\u001B[39;00m \u001B[38;5;167;01mKeyError\u001B[39;00m \u001B[38;5;28;01mas\u001B[39;00m err:\n",
      "File \u001B[0;32m~/miniforge3/envs/CC-Coding-Three/lib/python3.10/site-packages/pandas/_libs/index.pyx:147\u001B[0m, in \u001B[0;36mpandas._libs.index.IndexEngine.get_loc\u001B[0;34m()\u001B[0m\n",
      "File \u001B[0;32m~/miniforge3/envs/CC-Coding-Three/lib/python3.10/site-packages/pandas/_libs/index.pyx:176\u001B[0m, in \u001B[0;36mpandas._libs.index.IndexEngine.get_loc\u001B[0;34m()\u001B[0m\n",
      "File \u001B[0;32mpandas/_libs/hashtable_class_helper.pxi:7080\u001B[0m, in \u001B[0;36mpandas._libs.hashtable.PyObjectHashTable.get_item\u001B[0;34m()\u001B[0m\n",
      "File \u001B[0;32mpandas/_libs/hashtable_class_helper.pxi:7088\u001B[0m, in \u001B[0;36mpandas._libs.hashtable.PyObjectHashTable.get_item\u001B[0;34m()\u001B[0m\n",
      "\u001B[0;31mKeyError\u001B[0m: 'wonderful'",
      "\nThe above exception was the direct cause of the following exception:\n",
      "\u001B[0;31mKeyError\u001B[0m                                  Traceback (most recent call last)",
      "Cell \u001B[0;32mIn[16], line 2\u001B[0m\n\u001B[1;32m      1\u001B[0m \u001B[38;5;66;03m#or the word hate:\u001B[39;00m\n\u001B[0;32m----> 2\u001B[0m \u001B[43mdata\u001B[49m\u001B[43m[\u001B[49m\u001B[38;5;124;43m\"\u001B[39;49m\u001B[38;5;124;43mwonderful\u001B[39;49m\u001B[38;5;124;43m\"\u001B[39;49m\u001B[43m]\u001B[49m\n",
      "File \u001B[0;32m~/miniforge3/envs/CC-Coding-Three/lib/python3.10/site-packages/pandas/core/frame.py:3760\u001B[0m, in \u001B[0;36mDataFrame.__getitem__\u001B[0;34m(self, key)\u001B[0m\n\u001B[1;32m   3758\u001B[0m \u001B[38;5;28;01mif\u001B[39;00m \u001B[38;5;28mself\u001B[39m\u001B[38;5;241m.\u001B[39mcolumns\u001B[38;5;241m.\u001B[39mnlevels \u001B[38;5;241m>\u001B[39m \u001B[38;5;241m1\u001B[39m:\n\u001B[1;32m   3759\u001B[0m     \u001B[38;5;28;01mreturn\u001B[39;00m \u001B[38;5;28mself\u001B[39m\u001B[38;5;241m.\u001B[39m_getitem_multilevel(key)\n\u001B[0;32m-> 3760\u001B[0m indexer \u001B[38;5;241m=\u001B[39m \u001B[38;5;28;43mself\u001B[39;49m\u001B[38;5;241;43m.\u001B[39;49m\u001B[43mcolumns\u001B[49m\u001B[38;5;241;43m.\u001B[39;49m\u001B[43mget_loc\u001B[49m\u001B[43m(\u001B[49m\u001B[43mkey\u001B[49m\u001B[43m)\u001B[49m\n\u001B[1;32m   3761\u001B[0m \u001B[38;5;28;01mif\u001B[39;00m is_integer(indexer):\n\u001B[1;32m   3762\u001B[0m     indexer \u001B[38;5;241m=\u001B[39m [indexer]\n",
      "File \u001B[0;32m~/miniforge3/envs/CC-Coding-Three/lib/python3.10/site-packages/pandas/core/indexes/base.py:3654\u001B[0m, in \u001B[0;36mIndex.get_loc\u001B[0;34m(self, key)\u001B[0m\n\u001B[1;32m   3652\u001B[0m     \u001B[38;5;28;01mreturn\u001B[39;00m \u001B[38;5;28mself\u001B[39m\u001B[38;5;241m.\u001B[39m_engine\u001B[38;5;241m.\u001B[39mget_loc(casted_key)\n\u001B[1;32m   3653\u001B[0m \u001B[38;5;28;01mexcept\u001B[39;00m \u001B[38;5;167;01mKeyError\u001B[39;00m \u001B[38;5;28;01mas\u001B[39;00m err:\n\u001B[0;32m-> 3654\u001B[0m     \u001B[38;5;28;01mraise\u001B[39;00m \u001B[38;5;167;01mKeyError\u001B[39;00m(key) \u001B[38;5;28;01mfrom\u001B[39;00m \u001B[38;5;21;01merr\u001B[39;00m\n\u001B[1;32m   3655\u001B[0m \u001B[38;5;28;01mexcept\u001B[39;00m \u001B[38;5;167;01mTypeError\u001B[39;00m:\n\u001B[1;32m   3656\u001B[0m     \u001B[38;5;66;03m# If we have a listlike key, _check_indexing_error will raise\u001B[39;00m\n\u001B[1;32m   3657\u001B[0m     \u001B[38;5;66;03m#  InvalidIndexError. Otherwise we fall through and re-raise\u001B[39;00m\n\u001B[1;32m   3658\u001B[0m     \u001B[38;5;66;03m#  the TypeError.\u001B[39;00m\n\u001B[1;32m   3659\u001B[0m     \u001B[38;5;28mself\u001B[39m\u001B[38;5;241m.\u001B[39m_check_indexing_error(key)\n",
      "\u001B[0;31mKeyError\u001B[0m: 'wonderful'"
     ]
    }
   ],
   "source": [
    "#or the word hate:\n",
    "data[\"wonderful\"]"
   ]
  },
  {
   "cell_type": "markdown",
   "metadata": {
    "pycharm": {
     "name": "#%% md\n"
    }
   },
   "source": [
    "## Let's do some machine learning!"
   ]
  },
  {
   "cell_type": "code",
   "execution_count": 17,
   "metadata": {
    "pycharm": {
     "name": "#%%\n"
    }
   },
   "outputs": [],
   "source": [
    "#First, let's split our dataset into training and test sets\n",
    "# Remember: X is for input, y is for output\n",
    "# The first argument of train_test_split is your training data (here, lives in \"data\" object you created using word counts)\n",
    "# The second argument of train_test_split is your labels/targets for the training data. This lives in the \"sentiment\" column of the original dataframe df we loaded from the file.\n",
    "# (***If you are using a different dataset, you'll need to change the name of this column to whatever it is in your dataset)\n",
    "# The test_size argument specifies % of data going into test set: here, 20% of the data goes into test set and 80% goes into training set\n",
    "index = 0\n",
    "# df['class'] = [0] * len(df['label'])\n",
    "disease = []\n",
    "disease2index = []\n",
    "for statement in df[OUTPUT]:\n",
    "    if statement in disease:\n",
    "        disease2index.append(disease.index(statement))\n",
    "    else:\n",
    "        disease.append(statement)\n",
    "        disease2index.append(disease.index(statement))\n",
    "df['class'] = disease2index"
   ]
  },
  {
   "cell_type": "code",
   "execution_count": 18,
   "outputs": [
    {
     "data": {
      "text/plain": "['Lung_Cancer', 'Colon_Cancer', 'Thyroid_Cancer']"
     },
     "execution_count": 18,
     "metadata": {},
     "output_type": "execute_result"
    }
   ],
   "source": [
    "disease"
   ],
   "metadata": {
    "collapsed": false,
    "pycharm": {
     "name": "#%%\n"
    }
   }
  },
  {
   "cell_type": "code",
   "execution_count": null,
   "outputs": [],
   "source": [
    "df"
   ],
   "metadata": {
    "collapsed": false,
    "pycharm": {
     "name": "#%%\n",
     "is_executing": true
    }
   }
  },
  {
   "cell_type": "code",
   "execution_count": 20,
   "metadata": {
    "pycharm": {
     "name": "#%%\n"
    }
   },
   "outputs": [],
   "source": [
    "#If you ever want to learn more about a function, you can always use ? \n",
    "\n",
    "X_train, X_test, y_train, y_test = train_test_split(data, df['class'], test_size=0.2, random_state=0)"
   ]
  },
  {
   "cell_type": "code",
   "execution_count": 21,
   "metadata": {
    "id": "ykvGqf40eOtu",
    "scrolled": true,
    "pycharm": {
     "name": "#%%\n"
    }
   },
   "outputs": [
    {
     "data": {
      "text/plain": "(6056, 11203)"
     },
     "execution_count": 21,
     "metadata": {},
     "output_type": "execute_result"
    }
   ],
   "source": [
    "# We can examine it a bit using np.shape:\n",
    "np.shape(X_train) #What does our training data look like? It's 800 rows, with 1674 dimensions of input (features)"
   ]
  },
  {
   "cell_type": "code",
   "execution_count": 22,
   "metadata": {
    "id": "hiLtJgDYeOtu",
    "pycharm": {
     "name": "#%%\n"
    }
   },
   "outputs": [
    {
     "name": "stdout",
     "output_type": "stream",
     "text": [
      "Metal device set to: Apple M1 Pro\n"
     ]
    }
   ],
   "source": [
    "#Now let's make a simple neural network with 1 hidden layer containing 10 neurons\n",
    "num_neurons = 100 # neurons in each layer\n",
    "model = Sequential()\n",
    "\n",
    "#Make the first (hidden) layer, which will have num_neurons neurons. Each neuron will get inputs from all columns of the dataframe, except sentiment\n",
    "#model.add(Dense(num_neurons, input_dim=len(data.columns)-1))\n",
    "model.add(Dense(num_neurons, input_dim=np.shape(X_train)[1]))\n",
    "model.add(Activation('sigmoid')) #Now we'll use a sigmoid activation function\n",
    "\n",
    "model.add(Dense(num_neurons, input_dim=np.shape(X_train)[1]))\n",
    "model.add(Activation('sigmoid')) #Now we'll use a sigmoid activation function\n",
    "\n",
    "\n",
    "# #add a second dense hidden layer\n",
    "# model.add(Dense(num_neurons))\n",
    "# model.add(Activation('sigmoid'))\n",
    "# model.add(Dense(num_neurons))\n",
    "# model.add(Activation('sigmoid'))\n",
    "# model.add(Dense(num_neurons))\n",
    "# model.add(Activation('sigmoid'))\n",
    "\n",
    "#Now let's add another layer for the output: A single sigmoid neuron.\n",
    "model.add(Dense(1)) \n",
    "model.add(Activation('sigmoid'))"
   ]
  },
  {
   "cell_type": "code",
   "execution_count": 23,
   "metadata": {
    "id": "tcylQdKjeOtv",
    "pycharm": {
     "name": "#%%\n"
    }
   },
   "outputs": [],
   "source": [
    "#Use compile() to set up our training\n",
    "\n",
    "# For loss, we'll use binary cross-entropy loss, \n",
    "# which is appropriate for a binary classification problem (0/1 for negative/positive)\n",
    "# ***If you edit this notebook to apply it to a multi-class classification problem, you'll need \n",
    "#    to change the loss to something like categorical_crossentropy, and you'll also need to change the\n",
    "#    encoding of the class to a one hot representation (see https://machinelearningmastery.com/how-to-choose-loss-functions-when-training-deep-learning-neural-networks/)\n",
    "\n",
    "\n",
    "model.compile(optimizer='SGD',\n",
    "              loss='binary_crossentropy',\n",
    "              metrics=['accuracy'])"
   ]
  },
  {
   "cell_type": "code",
   "execution_count": 24,
   "metadata": {
    "id": "5O2u0WC2eOtv",
    "pycharm": {
     "name": "#%%\n"
    }
   },
   "outputs": [
    {
     "name": "stdout",
     "output_type": "stream",
     "text": [
      "Epoch 1/20\n"
     ]
    },
    {
     "name": "stderr",
     "output_type": "stream",
     "text": [
      "2023-04-26 07:04:33.827094: W tensorflow/tsl/platform/profile_utils/cpu_utils.cc:128] Failed to get CPU frequency: 0 Hz\n"
     ]
    },
    {
     "name": "stdout",
     "output_type": "stream",
     "text": [
      "190/190 [==============================] - 3s 12ms/step - loss: -0.9765 - accuracy: 0.3405 - val_loss: -2.2821 - val_accuracy: 0.3421\n",
      "Epoch 2/20\n",
      "190/190 [==============================] - 2s 9ms/step - loss: -5.8589 - accuracy: 0.3405 - val_loss: -10.9121 - val_accuracy: 0.3421\n",
      "Epoch 3/20\n",
      "190/190 [==============================] - 2s 9ms/step - loss: -18.9449 - accuracy: 0.4268 - val_loss: -27.0517 - val_accuracy: 0.5291\n",
      "Epoch 4/20\n",
      "190/190 [==============================] - 2s 8ms/step - loss: -36.7985 - accuracy: 0.5495 - val_loss: -45.6114 - val_accuracy: 0.5614\n",
      "Epoch 5/20\n",
      "190/190 [==============================] - 2s 8ms/step - loss: -56.1167 - accuracy: 0.5769 - val_loss: -64.9273 - val_accuracy: 0.5865\n",
      "Epoch 6/20\n",
      "190/190 [==============================] - 2s 10ms/step - loss: -75.9309 - accuracy: 0.5953 - val_loss: -84.7975 - val_accuracy: 0.5885\n",
      "Epoch 7/20\n",
      "190/190 [==============================] - 2s 9ms/step - loss: -96.2789 - accuracy: 0.6022 - val_loss: -105.0725 - val_accuracy: 0.6011\n",
      "Epoch 8/20\n",
      "190/190 [==============================] - 2s 9ms/step - loss: -116.8382 - accuracy: 0.6091 - val_loss: -125.5400 - val_accuracy: 0.6037\n",
      "Epoch 9/20\n",
      "190/190 [==============================] - 2s 10ms/step - loss: -137.5144 - accuracy: 0.6116 - val_loss: -146.0611 - val_accuracy: 0.6096\n",
      "Epoch 10/20\n",
      "190/190 [==============================] - 2s 10ms/step - loss: -158.2418 - accuracy: 0.6139 - val_loss: -166.6403 - val_accuracy: 0.6116\n",
      "Epoch 11/20\n",
      "190/190 [==============================] - 2s 9ms/step - loss: -179.0936 - accuracy: 0.6166 - val_loss: -187.3851 - val_accuracy: 0.6123\n",
      "Epoch 12/20\n",
      "190/190 [==============================] - 2s 9ms/step - loss: -200.0954 - accuracy: 0.6171 - val_loss: -208.2152 - val_accuracy: 0.6136\n",
      "Epoch 13/20\n",
      "190/190 [==============================] - 2s 9ms/step - loss: -221.1356 - accuracy: 0.6182 - val_loss: -229.0440 - val_accuracy: 0.6189\n",
      "Epoch 14/20\n",
      "190/190 [==============================] - 2s 8ms/step - loss: -242.1794 - accuracy: 0.6197 - val_loss: -249.8438 - val_accuracy: 0.6189\n",
      "Epoch 15/20\n",
      "190/190 [==============================] - 2s 9ms/step - loss: -263.1990 - accuracy: 0.6214 - val_loss: -270.6171 - val_accuracy: 0.6189\n",
      "Epoch 16/20\n",
      "190/190 [==============================] - 2s 9ms/step - loss: -284.1965 - accuracy: 0.6214 - val_loss: -291.3684 - val_accuracy: 0.6189\n",
      "Epoch 17/20\n",
      "190/190 [==============================] - 2s 9ms/step - loss: -305.1682 - accuracy: 0.6219 - val_loss: -312.1453 - val_accuracy: 0.6209\n",
      "Epoch 18/20\n",
      "190/190 [==============================] - 2s 9ms/step - loss: -326.1683 - accuracy: 0.6232 - val_loss: -332.9466 - val_accuracy: 0.6209\n",
      "Epoch 19/20\n",
      "190/190 [==============================] - 2s 9ms/step - loss: -347.1952 - accuracy: 0.6230 - val_loss: -353.7482 - val_accuracy: 0.6209\n",
      "Epoch 20/20\n",
      "190/190 [==============================] - 2s 9ms/step - loss: -368.2221 - accuracy: 0.6233 - val_loss: -374.5769 - val_accuracy: 0.6222\n"
     ]
    }
   ],
   "source": [
    "#Train it!\n",
    "# Plus store history of training in a variable called \"history\"\n",
    "history = model.fit(X_train, y_train, epochs=20, validation_data=(X_test, y_test))"
   ]
  },
  {
   "cell_type": "markdown",
   "metadata": {
    "pycharm": {
     "name": "#%% md\n"
    }
   },
   "source": [
    "Let's take a look at how training set and test set accuracy change with each epoch:"
   ]
  },
  {
   "cell_type": "code",
   "execution_count": 25,
   "metadata": {
    "pycharm": {
     "name": "#%%\n"
    }
   },
   "outputs": [
    {
     "data": {
      "text/plain": "<matplotlib.legend.Legend at 0x29b061960>"
     },
     "execution_count": 25,
     "metadata": {},
     "output_type": "execute_result"
    },
    {
     "data": {
      "text/plain": "<Figure size 640x480 with 1 Axes>",
      "image/png": "[encoded data removed]"
     },
     "metadata": {},
     "output_type": "display_data"
    }
   ],
   "source": [
    "plt.plot(history.history['accuracy'], label='training set accuracy')\n",
    "plt.plot(history.history['val_accuracy'], label = 'test set accuracy')\n",
    "plt.xlabel('Epoch')\n",
    "plt.ylabel('Accuracy')\n",
    "plt.ylim([0.5, 1])\n",
    "plt.legend(loc='lower right')"
   ]
  },
  {
   "cell_type": "markdown",
   "metadata": {
    "pycharm": {
     "name": "#%% md\n"
    }
   },
   "source": [
    "## Examining model behaviour\n",
    "\n",
    "First, let's explore how we can apply the trained model to a specific example in our test data (or training data), to examine what it's done.\n",
    "\n",
    "We'll use the following code techniques:\n",
    "* We can apply the trained model to any example using the `.predict()` function\n",
    "* We can get the nth row from any dataframe using the `.iloc[[n]]` function"
   ]
  },
  {
   "cell_type": "code",
   "execution_count": 29,
   "metadata": {
    "pycharm": {
     "name": "#%%\n"
    }
   },
   "outputs": [
    {
     "name": "stdout",
     "output_type": "stream",
     "text": [
      "1/1 [==============================] - 0s 165ms/step\n"
     ]
    },
    {
     "data": {
      "text/plain": "array([[0.99491763]], dtype=float32)"
     },
     "execution_count": 29,
     "metadata": {},
     "output_type": "execute_result"
    }
   ],
   "source": [
    "#For instance, let's make z the first test example:\n",
    "z = X_test.iloc[[0]]\n",
    "\n",
    "#and let's output the prediction for this example:\n",
    "model.predict(z)"
   ]
  },
  {
   "cell_type": "markdown",
   "metadata": {
    "pycharm": {
     "name": "#%% md\n"
    }
   },
   "source": [
    "Note that this prediction will be somewhere between 0 and 1. This can be interpreted loosely as confidence: closer to 1 is more confident it is positive sentiment, closer to 0 is more confident it is negative sentiment.\n",
    "\n",
    "Let's compare this to the actual sentiment of the review, as stored in y_test:"
   ]
  },
  {
   "cell_type": "code",
   "execution_count": 30,
   "metadata": {
    "pycharm": {
     "name": "#%%\n"
    }
   },
   "outputs": [
    {
     "data": {
      "text/plain": "5916    1\nName: class, dtype: int64"
     },
     "execution_count": 30,
     "metadata": {},
     "output_type": "execute_result"
    }
   ],
   "source": [
    "y_test.iloc[[0]]"
   ]
  },
  {
   "cell_type": "markdown",
   "metadata": {
    "pycharm": {
     "name": "#%% md\n"
    }
   },
   "source": [
    "To make sense of this, we probably also want to look at the actual text review, which doesn't live in X_test but does live in the original dataframe we loaded from the CSV file, i.e. `df`. Since our `train_test_split` function has randomised the order of the data before splitting into training and testing sets, we need to get the id (row number) for `df` corresponding to this first test example."
   ]
  },
  {
   "cell_type": "code",
   "execution_count": 32,
   "metadata": {
    "pycharm": {
     "name": "#%%\n"
    }
   },
   "outputs": [
    {
     "data": {
      "text/plain": "5916    n6methyladenosine m6a regulators are involved in the progression of various cancers via regulating m6amodiï¬cation however the potential role and mechanism of the m6a modiï¬cation in osteosarcoma remains obscurein this study wtap was found to be highly expressed in osteosarcoma tissue and it was an independent prognosticfactor for overall survival in osteosarcoma functionally wtap as an oncogene was involved in the proliferation andmetastasis of osteosarcoma in vitro and vivo mechanistically m6a dot blot rnaseq and meripseq meripqrtpcrand luciferase reporter assays showed that hmbox1 was identiï¬ed as the target gene of wtap which regulatedhmbox1 stability depending on m6a modiï¬cation at the ²utr of hmbox1 mrna in addition hmbox1 expressionwas downregulated in osteosarcoma and was an independent prognostic factor for overall survival in osteosarcomapatients silenced hmbox1 evidently attenuated shwtapmediated suppression on osteosarcoma growth andmetastasis in vivo and vitro finally wtaphmbox1 regulated osteosarcoma growth and metastasis via pi3kaktpathway in  this study demonstrated the critical role of the wtapmediated m6a modiï¬cation in theprogression of osteosarcoma which could provide novel insights into osteosarcoma treatmentintroductionosteosarcoma is a primary malignant bone tumor thatis common among childhood and adolescents worldwide1despite the improvements including multiagent chemotherapy with surgery in recent years the 5year survival rate is  for localized osteosarcoma and is for recurrent and metastatic osteosarcoma23 thereforea better understanding of molecular mechanism isurgent for developing novel therapeutic strategies forosteosarcomacorrespondence jinglei miao miaojinglei126com orjinsong li jinsongli_csu163com1department of orthopaedics the third xiangya hospital of central southuniversity  tongzipo rd changsha hunan  china2shanghai key laboratory of regulatory biology institute of biomedicalsciences and school of life sciences east china normal university shanghai chinafull list of author information is available at the end of the edited by a stephanouitn6methyladenosine m6a is the prominent dynamicmrna modiï¬cation which is involved in various biological process by regulating mrna translocation translation and stability4is catalyzed by m6a writermethyltransferase removed by erasers rna demethylases and recognized by m6a readers involving in variousbiological progression5 the formation of m6a is catalyzed by a methyltransferase mettl3 and mettl14form a core catalytic complex of methyltransferases that isstabilized by wtap8 recently mettl16910 mettl5zcchc411 and zc3h1312 were showed to play a criticalrole in compositing methyltransferase complex andfacilitating m6a methylation13 the eraser alkbh5 andfto has m6a demethylation activity to remove the m6amodiï¬cation the reader proteins are from yth familyheterogeneous nuclear ribonucleoprotein hnrp familyand insulinlike growth factor  mrnabinding protein the authors open access this  is licensed under a creative commons attribution  international license which permits use sharing adaptation distribution and reproductionin any medium or format as long as you give appropriate credit to the original authors and the source provide a link to the creative commons license and indicate ifchanges were made the images or other third party material in this  are included in the s creative commons license unless indicated otherwise in a credit line to the material ifmaterial is not included in the s creative commons license and your intended use is not permitted by statutory regulation or exceeds the permitted use you will need to obtainpermission directly from the copyright holder to view a copy of this license visit httpcreativecommonslicensesby40ofï¬cial   of the cell death differentiation association        0cchen   cell death and disease     page  of isfamily they recognize the m6a modiï¬cation to adjustrna metabolisms14dynamic and reversible m6a regulation was reported tobe involved in various physiological and pathologicalprocesses including stem cell differentiation cardiachomeostasis adipogenesis neuronal disorders and spermatogenesis15 recent years compelling evidence hasrevealed that m6a modiï¬cation plays an important role inthe tumorigenesis of various cancers20 for examplemettl3 was reported to play key role in the progressionof colorectal carcinoma25 bladder cancer2627 gastriccancer28 and pancreatic cancer29 ythdf2 was involvedthe progression of acute myeloid leukemia aml viaregulating hematopoietic stem cells hscs activity4 ftowas also reported to play a crucial role in the progressionof melanoma30 breast cancer31 gastric cancer32 andintrahepatic cholangiocarcinoma nevertheless the role ofm6a modiï¬cation in osteosarcomastill poorlycharacterizedwtap a wilms tumor  wt1 associated protein33has been reported to be critical in the biological processesincluding g2m transition and premrna splicing34in addition accumulated studies identiï¬ed the importantrole of wtap in the progression of various cancers37 forexample wtap function as oncogene in cholangiocarcinoma38 acute myeloid leukemia39 colon cancer40 ovariancancer41 and diffuse large bcelllymphoma42 recentstudies reported that wtap is strictly connected to afunctional m6a methylation complex43 here we revealedthe increased expression of wtap in osteosarcoma tissuewhich was associated with clinicopathological features andpoor prognosis in osteosarcoma patients wtap functionas an oncogenic gene and it promotes the m6a modiï¬cation and progression of osteosarcoma mechanistically wtap induced the growth and metastasis ofosteosarcoma via downregulating hmbox1 expression inm6adependent manner further investigations demonstrated that wtaphmbox1 regulated osteosarcomagrowth and metastasis via pi3kakt pathway overallthese results imply that wtaphmbox1 may be animportant mechanism of osteosarcoma progression andserve as a novel therapeutically target of osteosarcomamaterials and methodsclinical samples and ethicsonehundredandfour paired fresh osteosarcoma metastatic os sample and  nonmetastatic os sampleand normal tissues were obtained from patients withoutradiotherapy andor chemotherapy at the third xiangyahospital of central south university and then immediately frozen in  °c for rna and protein extraction orformalxed and parafï¬nembedded for further usedinformed consent was obtained from each patient or theirguardians and the study were approved by the ethicsofï¬cial   of the cell death differentiation associationcommittee of the third xiangya hospital of centralsouth universitycell culture transfection and infectionthe human hfob119 cells and osteosarcoma cell linessjsa1 mg63 hos u2os and 143b were obtainedfrom the cell bank of the chinese academy of sciencesshanghai china the osteosarcoma cells were culturedin dmem with  fbs gibco grand island ny usathe hfob119 cells were cultured in dmemf12 df with  fbsthe sequences of shrna cloned into plko1 vectorand then shwtapplko1 or shhmbox1plko1 werecotransfected with packing and pax2 plasmids into293tf cells fortyeight hours after transfectionthelentivirus was collected and infected hos and u2os cellsfor  h the  Î¼gml puromycin was used for screeninginfected cells the primers were listed in table s1western blotproteintechantiythdf2antipi3k ab191606 abcamthe proteins were obtained from cells and tissues beinglysed with ripa buffer and then separated by  sdspage the antiwtap ab195380 abcam antihmbox1161231apab220163abcamantippi3kab182651 abcam akt 9272s cell signaling paktser473and antigapdhab181602 abcam were used for pvdf membrane incubating overnight at  °c the protein expression was detected by incubating with antirabbit secondary antibodies4051s cellsignalingrnaseq analysis and qrtpcrtotal rnas were extracted from osteosarcoma tissueand cells using trizol thermofisher usa for rnaseqanalysis the library construction and illumina sequencingusing the illumina truseq rna sample prep kit sandiego ca usa for qpcr validation the cdna wasobtained using first strand cdna synthesis kittoyobo finally the mrna expression was detectedusing sybr green biorad california usa all primers were in table s1rna m6a dot blot assay and rna m6a quantiï¬cationtotal rnas were extracted from osteosarcoma cells bytrizol thermofisher usa and then nanodrop3000was used for detecting rna quality the m6a content wasdetected by epiquik m6a rna methylation quantiï¬cation kit colorimetric epigentek usathe polya rnas   and  ng were spottedonto a nylon membrane ge healthcare for rna m6adot blot assay and then incubated with m6a antibody noabe572 merck millipore usa at  °c overnight them6a dots was analyzed using an imaging system biorad usa        0cchen   cell death and disease     page  of meripseq and meripqrtpcrtotal rnas were extracted from osteosarcoma cells bytrizol the dnafree fragmented rnas were incubatedwith magnetic dynabeads bounded antim6a antibodyabcam usa to enrichment the mrna with m6a andthen beads were treated with proteinase k and rna wasextracted for meripseq or validation by qrtpcr theprimers are in table s1cell proliferation assaysthe cck8 cell counting kit8 c0038 beyotimebiotechnology china was used for cell proliferationability44colony formation assaysthe cells were seeded into 6well plates with a density Ã  cells per wells and cultured in dmem medium for weeks and then  paraformaldehyde pfa was usedto ï¬x the colonies and crystal violet was used to stain asprevious described45woundhealing assayosteosarcoma cells were cultured for  h to reach conï¬uency and then a straight artiï¬cial wound wasscraped with a  Î¼l pipette tip the cell migration abilitywas measured by photographing the distance at  and h45transwell invasion assaysthe transwell chamber bd science bedford mausa was used for invasion assays as previously described1 in brief  Ã  osteosarcoma cells were seeded intothe upper chambers and incubated for  h the invasivecells were counted and quantiï¬ed for cellinvasion asprevious described45luciferase reporter assaysthe ²utr of hmbox1 was cloned into pmiglovector promega usa the putative m6a sites bases awere mutated into bases c in ²utr using sitedirectedmutagenesis kit thermo usa the wt and mutplasmids were transfected in osteosarcoma cells and thenthe dualluciferase assay kit promega was used fordetecting the luciferase activity44animal experimentsnude mice  weeks male were used for tumor modelall animal care and handling procedures were approvedby the institutional animal care and use committee ofthe third xiangya hospital of central south universitychangsha china for the subcutaneous tumor model  Ãshwtapshhmbox1 u2os cells seeded into mice via subcutaneous injection tumor volume and tumor weightshhmbox1 orshncshwtap orofï¬cial   of the cell death differentiation associationwere measured to analyze tumor growth as previousdescribed46 for orthotopic xenografttumor modelshnc shwtap shhmbox1 or shwtapshhmbox1u2os cells were labeled with a luminescent dye and gfpand injected into the cavity of the tibia of mice thirtydays after injection tumor growth was detected for themetastasis model the cells were injected into the tail veinand the lung metastasis were detected  days afterinjection using in vivo bioluminescence imaging systemimmunohistochemistryimmunohistochemistry ihc analysis was performedusing antiwtap ab195380 abcam antihmbox1161231ap proteintech as pervious described26bioinformatics analysisthe geo dataset gse87624 and gse46705 weredownloaded and analyzed by r version  httpswwwrproject the different expressed gene wascalculated with edger package and identiï¬ed by thethreshold criteria of log2 foldchange fc ¥  and adjp   go and kegg analysis was performed toinvestigate the potential role of genes proteinproteininteraction ppi network was analyzed by the stringdatabasestatistical analysisthe spss  spss inc chicago il usa was usedfor the statistical analyses using anova or students ttest in this study kaplanmeier analysis was used forsurvival the correlation between wtap and hmbox1were analyzed using pearson analysis statistical signiï¬cance was deï¬ned p  resultselevated wtap is associated with poor prognosis ofosteosarcoma patientsto reveal the important role of m6a modiï¬cation inosteosarcoma we explored the expression levels of m6arelative genes in osteosarcoma tissue and normalbone tissue gse87624  normal and  osteosarcomaas shown in figs 1a and s1a we examined the expressionof  m6arelated genes in geo database and found thatwtap rbm15 ythdf1 and ythdf2 were differentlyexpressed in tumor tissue compared with control tissuethe m6a writers were reported to play key role on theprogression of various cancers so wtap was selected forfurther analysis next we detected the expression ofwtap in  pairs of osteosarcoma tissue and the corresponding paratumor tissues from the third xiangyahospital of central south university txhcsu consistent with the geo results the signiï¬cant higher mrnaand protein levels of wtap in osteosarcoma was detectedusing the qpcr and wb analysis fig 1b c moreover        0cchen   cell death and disease     page  of fig  the expression levels of wtap in osteosarcoma tissue and cell lines a wtap expression in osteosarcoma tissue compared with normalbone tissue from gse87624 b qpcr assay and c western blot assay revealed the wtap expression in osteosarcoma tissue and the correspondingparatumor tissues from txhcsu d the kaplanmeier survival analysis e univariate and multivariate survival analysis f establishment of the overallsurvival nomogram for osteosarcoma patients g timedependent roc analysis h the mrna expression levels of wtap in osteosarcoma cell linesand hfob119 cell line using qpcrthe osteosarcoma patients with high wtap showed pooroverall survival in txhcsu fig 1d and the univariateand multivariate cox analysis showed that wtap andmetastasis were the independent prognostic factor foroverall survival in osteosarcoma patients fig 1e theprognostic nomogram wasthepredictusedtoprobabilities of overall survival rates of osteosarcomapatients and the calibration curves showed has a goodconsistency between the prediction and the actual observation fig 1f in addition the  years roc curve aucof wtap in osteosarcoma patients from txhcsu was fig 1g besides the overexpression of wtap wasofï¬cial   of the cell death differentiation association        0cchen   cell death and disease     page  of table  the association of wtap expression andclinicopathologic characteristics of osteosarcoma patientswtap acts as an oncogene that promoted cell proliferation migration and invasion in osteosarcomacharacteristics case number wtap expressionp valuehmbox1 is potential target of wtap in osteosarcomagendermalefemaleage¤tumor size¤ cm cmmetastasisyesnotnmiiiiiiivhighn  lown  p  p  p  p  p  associated with tumor size metastasis and tnm stagetable  and fig s1b finally the higher expression ofwtap was also detected in osteosarcoma cell lines sjsa mg63 hos u2os and 143b compared with that inthe human osteoblast hfob119 cell fig 1h collectively these results demonstrated that wtap is highlyexpressed in osteosarcoma and is correlated with its poorprognosissilenced wtap signiï¬cantly represses osteosarcomaprogression in vitroto generateto further clarify the role of wtap in osteosarcomashwtap1 andwe next used shrna lentivirusshwtap2stable wtapknockdownosteosarcoma cells and analyzed the role of wtap oncells migrationinvasion and proliferation of osteosarcoma the shwtap1 and shwtap2 signiï¬cantlyknockdown the expression levels of wtap in osteosarcoma cells fig 2a the cck8 assay and colonyformation assay showed that wtap deï¬ciency signiï¬cantly reduced proliferative capacity of osteosarcomacells fig 2b c the transwellinvasion and woundhealing assays showed that the invasion and migrationability of the osteosarcoma were signiï¬cant reduced bysilenced wtap fig 2d e these results determine thatofï¬cial   of the cell death differentiation associationto reveal the potential mechanism by which wtapregulates the progression of osteosarcoma we performedrnaseq m6aseq in shwtapshnc u2os cell andclipseq to revealthe potential genes regulated bywtapmediated m6a modiï¬cation the rnaseq resultsrevealed  downregulated degs and  upregulateddegs with logfc   and adjp   in shwtapgroup compared with shnc group fig s2a geneontology go showed that degs were enriched in neutrophil activation cell cycle and so on fig s2b kegganalysis showed that degs were enriched in metabolismrelated signal pathway fig s2c the m6aseq analysisidentiï¬ed  differentially m6a modiï¬cation genes inwtapsilenced u2os cell compared with normal u2oscells table s2 the clipseq from gse46705 revealed wtaptargeted rna in wtap overexpressed cellusing parclip technology and then we obtained theoverlapped genes in rnaseq m6aseq and clipseq asshown in fig 3a  genes were overlapped in three groupsincluding two upregulated gene slc3a2 casp7 andfour downregulated gene abr hs6st1 cd59 andhmbox1 consistent with these results slc3a2 andcasp7 were signiï¬cantly upregulated and abr hs6st1cd59 and hmbox1 were signiï¬cantly downregulated inosteosarcoma tissues from geo gse87624 databasefig s3a these results were also conï¬rmed in theosteosarcoma tissues from our txhcsu data fig s3band then we evaluated the regulation of wtap on thesix candidates in osteosarcoma cells using qpcr amongwhich hmbox1 was the most signiï¬cantly upregulatedgene in shwtap osteosarcoma cells fig 3b and wasselected for further analysis consistent with the mrnaexpressionthe protein level of hmbox1 was alsoremarkably increased by silenced wtap fig 3c wenext evaluated the relationship between wtap andhmbox1 expression in gse87624 and txhcsu as ourspeculation hmbox1 expression was negatively correlated with wtap expression r   in gse87624and r   in txhcsu fig 3d moreover weanalyzed the relationship between hmbox1 expressionclinicopathological features in  osteosarcoma patientsfrom txhcsu hmbox1 expression was signiï¬cantlyreduced with tumor size and metastasis table  and figs3c and the survival analysis results showed that thepatients with low level hmbox1 had poor overall survival in osteosarcoma fig 3e moreover the univariateand multivariate analysis demonstrated hmbox1 as anindependent prognosticsurvivalp   in osteosarcoma patients fig 3f we alsorevealedinof hmbox1expressionfactorfor overallthelower        0cchen   cell death and disease     page  of fig  silenced wtap signiï¬cantly repressed osteosarcoma progression in vitro a the shwtap1 and shwtap2 downregulated wtapexpression b cck8 assay revealed that silenced wtap reduced the cell proliferation ability in osteosarcoma c colony formation assay showed thatsilenced wtap decreased the cloning number of osteosarcoma cells d transwell invasion and e woundhealing assay revealed the inhibition ofsilenced wtap on osteosarcoma cell invasion and migrationosteosarcoma cell lines sjsa1 mg63 hos u2os and143b than that in the human osteoblast hfob119 cellline fig 3g in  these results indicated thathmbox1 is a potential target of wtap and is related topoor prognosis of osteosarcoma patientswtap regulates hmbox1 expression via m6a modiï¬cationin osteosarcomaas meripseq data revealed different m6a modiï¬cationof hmbox1 in nc and wtapsilenced cells we nextanalyzed whether wtap regulated the hmbox1ofï¬cial   of the cell death differentiation association        0cchen   cell death and disease     page  of fig  hmbox1 is a potential target of wtap a the venn diagram was generated from differentially expressed genes in rnaseq m6aseq andclipseq in gse46705 the expression of the overlapped genes in hos and u2os cells with silenced wtap using b qpcr assay and c western blotassay d correlation analysis of wtap and hmbox1 in osteosarcoma from gse87624 and txhcsu e the kaplanmeier survival analysis f univariateand multivariate survival analyses g wtap hmbox1 expression in osteosarcoma cell lines and human osteoblast hfob119 cell lineexpression in an m6adependent manner using m6a dotblot and rna methylation quantiï¬cation assay asexpected m6a levels were substantially decreased inwtapknockdown osteosarcoma cells compared controlosteosarcoma cells fig 4a moreover meripqpcrassay showed that hmbox1 was effectively enriched bym6aspeciï¬c antibody and enriched hmbox1 wasremarkably decreased by in wtapknockdown cells fig4b therefore we supposed that wtap could regulatem6a levels of hmbox1 according to the m6a rnaseqthe ²utr ofresulthmbox1 and the sramp httpwwwcuilabcnsramppredicted three very high conï¬dence m6a sites at the ²utr of hmbox1 fig s4 to further prove the directedthe m6a modiï¬cation was attarget role of wtap on hmbox1 with m6a modiï¬cation we cloned the hmbox1 ²utr containing these m6a sites into pmirglo vectors and then we mutant thebases a into bases c in the predicted m6a sites fig3f in fig 3g the luciferase activity of hmbox1 wassigniï¬cantly increased by silenced wtap however theluciferase activity of mut hmbox1 did not affected bysilenced wtap in both hos and u2os cells fig 4cythdf2 is a well know m6a reader and plays animportant role in the progression of several cancers viaregulating mrna degradation figure 1s showed thatythdf2 was upregulated in osteosarcoma tissues ingse87624 in fig 4e ythdf2 evidently upregulated inosteosarcoma tissue and cells we next shed light on theofï¬cial   of the cell death differentiation association        0cchen   cell death and disease     page  of table  the association of hmbox1 expression andclinicopathologic characteristics of osteosarcoma patientscharacteristics case number hmbox1 expressionp valuehighn  lown  gendermalefemaleage¤tumor size¤ cm cmmetastasisyesnotnmiiiiiiivp  p  p  p  p  expression of ythdf2 in osteosarcoma and the role ofythdf2 on hmbox1 expression in osteosarcoma disappointedly silenced ythdf2 showed no effects onhmbox1 expression in osteosarcoma cells fig 4f suggesting that wtap regulated m6amediated hmbox1expression in ythdf2independent mannertogether these data suggested that wtaprepressedhmbox1 expression via regulating m6a modiï¬cation ofhmbox1 at its ²utrhmbox1 is involved in wtapmediated osteosarcomaproliferation and metastasis in vitrowe next explored whether wtap promoted osteosarcoma progression by regulating hmbox1 expressionas shown in fig 5a hmbox1 expression was evidentlyincreased by wtap knockdown and was decreased byhmbox1 knockdown in osteosarcoma cells the cck8results showed that the proliferation levels were increasedby shhmbox1 in wtapsilenced hos and u2os cellsfig 5b consistent with the cck8 results silencedhmbox1 also alleviated shwtapmediated repressionof cell proliferation in colony formation assay fig 5cthe similar effects of hmbox1 were also observed inwtapsilenced osteosarcoma cell using woundhealingand transwell invasion assays fig 5d and e in additionofï¬cial   of the cell death differentiation associationwestern blot results showed that silenced wtap evidently repressed the expression of mesenchymal markerscadherin and vimentin and induced the expression ofepithelial marker ecadherin which was attenuated byshhmbox1 in osteosarcoma cells fig 5f these datasuggested wtap promotes osteosarcoma cells proliferation and metastasis via repressing hmbox1 expressionhmbox1 inhibits osteosarcoma growth and metastasisin vivowe next veriï¬ed the role of hmbox1 in vivo byinjecting shnc shwtap shhmbox1 and shwtapshhmbox1 u2os cells to induce subcutaneous osteosarcoma mice model orthotopic xenograft tumor modeland tail vein metastasis model the expression levels ofhmbox1 was signiï¬cantly upregulated by silencedwtap in subcutaneous osteosarcoma tissue figs 6a ands5 and s6 moreover silenced wtap repressed thetumor size and tumor weight in subcutaneous osteosarcoma mice which was rescued by silenced hmbox1fig 6b we next used a luminescent dye and gfplabeled u2os cells to build an orthotopic xenografttumor model the bioluminescence imaging showed thatthe wtap knockdown reduced the proliferation ofu2os cells in situ while silenced hmbox1 alleviatedthis repression fig 6c to further detect the role ofwtap and hmbox1 on the metastatic ability ofosteosarcoma in vivo u2os cells were injected into nudemice via the tail vein the bioluminescence imagingshowed that silenced hmbox1 alleviated the repressionof silenced wtap on osteosarcoma metastasis fig 6dtaken together these results suggest that hmbox1 isinvolved in wtapmediated tumor growth and metastasis of osteosarcomawtaphmbox1 regulates the proliferation and metastasisof osteosarcoma partly by pi3kakt pathwaythe kegg results identiï¬ed that pi3kakt pathwayscould be regulated by wtap fig s2b pi3kakt signaling pathway promotes the growth migration andinvasion of various cancers including osteosarcoma4748we hypothesized that wtaphmbox1 was involved inthe progression of osteosarcoma via regulating pi3kaktsignaling pathway as shown in fig 7a phosphopi3k andphosphoakt were evidently repressed by shwtap andinduced by shhmbox1 and shhmbox1 signiï¬cantlyattenuatedandphosphoakt in both hos and u2os cells ly294002 api3kakt pathwaysreducedshhmbox1induced cell proliferation migration andinvasion in both hos and u2os cells fig 7b cthereforethese results imply that wtaphmbox1regulates the proliferation and metastasis of osteosarcomapartly via pi3kakt pathway fig shwtaprepressedphosphopi3kinhibitorremarkably        0cchen   cell death and disease     page  of fig  hmbox1 is negative correlation wtap expression and is associated to the poor prognosis of osteosarcoma a the m6a level in hosand u2os cells with silenced wtap b meripqpcr assay followed by qrtpcr revealed the hmbox1 m6a modiï¬cation c wildtype or m6a sitemutant hmbox1 were cloned in pmirglo d luciferase reporter assays revealed the target role of wtap on the ²utr of hmbox1 e ythdf2expression in osteosarcoma tissue and cells f the effects of silenced ythdf2 on hmbox1 expression in osteosarcoma cellsdiscussionin the past several years m6a modiï¬cation is considered as a pervasive internal modiï¬cation of mrna andplays critical roles in the progression of a variety of humandiseases including cancers20 however the underlyinginvolvement of m6a regulators in osteosarcoma progression is still unclear in the present study we focused onthe role and underlying mechanism of wtap and itmediated m6a modiï¬cation in the progression andmetastasis of osteosarcoma in this study wtap wasï¬rstly identiï¬ed to upregulated which was associated withpoor prognosis of osteosarcoma functionally wtappromoted the growth and metastasis of osteosarcomain vitro and vivo mechanistically hmbox1 was identiï¬ed as the target gene of wtap and it was regulated bywtap with m6a modiï¬cation at the ²utr finallywtaphmbox1 regulated osteosarcoma growth andmetastasis in a pi3kaktdependent patternactually wtap was reported as an oncogene in various cancers37 recent studies reported that wtapis strictly connected to a functional m6a methylationcomplex43 howeverfew study demonstrated theimportant role of wtap as a m6a regulator here weconcluded that wtap is not only upregulated but alsoplays key role on the m6a modiï¬cation in osteosarcomanotably the aberrant of m6a modiï¬cation is related toofï¬cial   of the cell death differentiation association        0cchen   cell death and disease     page  of fig  hmbox1 as a tumor suppressor was involved in wtapmediated progression a hmbox1 expression in osteosarcoma cell with shwtapand shhmbox1 knockdown of hmbox1 effectively alleviated wtapdependent b cell proliferation c colony formation d transwell invasion ande woundhealing assay f the protein expression level of emt transition related protein p  various biological processes via regulating mrna stability splicing and translation next we shed light on thedownstream mrna that modiï¬ed by wtapmediatedm6a modiï¬cation by combining the data from rnaseqm6aseqshowed thathmbox1 is a potential target gene of wtap subsequently meripqpcr western blotand luciferasereporter assay results revealed that wtap repressedand clipseq theresultshmbox1 expressed with wtapdependent m6a modthe ²utr of hmbox1 thus wtapiï¬cation atinvolved in tumorigenesis depending on its role of m6amodiï¬cation although ythdf2 is a wellknown m6areader in several cancers we found that ythdf2 showedno effects on hmbox1 expression suggesting thatwtap regulated m6amediated hmbox1 expression inythdf2independent manner and the m6a readerofï¬cial   of the cell death differentiation association        0cchen   cell death and disease     page  of fig  silenced hmbox1 attenuated shwtaprepressed osteosarcoma growth and metastasis in vivo a the expression levels of hmbox1 inosteosarcoma mice models b knockdown of hmbox1 effectively alleviated shwtaprepressed osteosarcoma growth in mice c the orthotopicxenograft tumor and d lung metastasis were detected using a vivo bioluminescence imaging system representative images and a histogram areshown n   each groupwhich was involved in the m6a modiï¬cation of hmbox1need be further investigatedhmbox1 a homeobox containing protein49 wasreported to be a transcriptional repressor involving in thebiological processes in bone marrowderived stromacells50 nk cells5152 and vascular endothelial cells53recent studies demonstrated the dysregulated hmbox1in various cancers for example high expression ofhmbox1 was observed in gastric cancer and it wasassociated with the poor prognosis of gastric cancer54moreover hmbox1 also observed as tumor suppressorin ovarian cancer55 and cervical cancer56 hmbox1repressed the progression of ovarian cancer via regulatingcell proliferation and apoptosis55 hmbox1 repressedliver cancer progression via regulating autophagy as wellas and immune escape57 consistently hmbox1 isofï¬cial   of the cell death differentiation association        0cchen   cell death and disease     page  of fig  wtap hmbox1 was involved the progression of osteosarcoma via pi3kakt pathway a western blot analysis for the expression ofppi3k pi3k pakt and akt in osteosarcoma cells b cell proliferation c colony formation transwell invasion and woundhealing assay ofosteosarcoma cell treated with  Î¼m akt inhibitor ly294002 abcam ab120243 for  hunclear how hmbox1 as a transcriptional repressorregulates pi3kakt pathway nonethelesssilencedhmbox1 only partly alleviated wtapmediated osprogressionthere are other potentialmolecular mechanisms regulated by wtapmediatedepigenetic modulation in osit means thatin summary we identiï¬ed the elevated wtap inosteosarcoma and which is associated with poor clinicaloutcome and serves as an independent prognostic factorfor osteosarcoma patients wtap dramatically promotedosteosarcoma proliferation and metastasis via regulatinghmbox1 mrna stability in a m6adependent mannerwtaphmbox1 regulated osteosarcoma growth andmetastasis via pi3kakt pathway altogether our resultsdetermined wtap hmbox1 as a potential therapeutictarget for osteosarcomaacknowledgementsthis study was supported by national natural science foundation of chinagrant nos  national natural science foundation of china grantnos  natural science foundation of hunan province grant nos2018jj2617 natural science foundation of hunan province grant nos2016jj3176 national key research and development program of china no2016yfc1201800 natural science foundation of hunan province no2018sk2090author details1department of orthopaedics the third xiangya hospital of central southuniversity  tongzipo rd changsha hunan  china 2shanghai keylaboratory of regulatory biology institute of biomedical sciences and schoolof life sciences east china normal university shanghai  china 3fourgynecological wards ningbo women and childrens hospital ningbozhejiang  china 4the second xiangya hospital of central southuniversity changsha china 5school of basic medical science central southuniversity changsha china 6department of anatomy histology andembryology changsha medical university changsha chinafig  a schematic model illustrating wtapmediated m6a regulationin osteosarcomaevidentlydownregulated and closely related to the poor prognosisof osteosarcoma in the present study in addition silencedhmbox1alleviated wtapknockdownmediated repression of osteosarcoma progression whichimplied the import roles of hmbox1 in wtapdrivenosteosarcoma development finally we analyzed thedownstream pathway of wtaphmbox1 in osteosarcoma pi3kakt pathway was reported to an important role in the progression of various cancers includingosteosarcoma58 we found that pi3kakt pathway we\nName: a, dtype: object"
     },
     "execution_count": 32,
     "metadata": {},
     "output_type": "execute_result"
    }
   ],
   "source": [
    "test_ids = list(X_test.index) #gets the original indices in the df dataframe\n",
    "#test_ids[n] now refers to the id number of the nth test example\n",
    "originalReview = df.iloc[[test_ids[0]]].a\n",
    "originalReview"
   ]
  },
  {
   "cell_type": "markdown",
   "metadata": {
    "pycharm": {
     "name": "#%% md\n"
    }
   },
   "source": [
    "Try this with a few more examples and see what you find. If you're comfortable with python, can you think of a way to identify misclassified test examples and just print out those? Or, even better, find test examples that are confidently classified correctly, or test examples that are \"confidently\" misclassified, and examine those?"
   ]
  },
  {
   "cell_type": "code",
   "execution_count": 91,
   "metadata": {
    "pycharm": {
     "name": "#%%\n"
    }
   },
   "outputs": [],
   "source": []
  },
  {
   "cell_type": "markdown",
   "metadata": {
    "pycharm": {
     "name": "#%% md\n"
    }
   },
   "source": [
    "For more fun, how about testing this classifier on our own new, fake \"reviews\"? Here's code to create an example of your own and apply the classifier to it. We'll have to first convert a string of text to a vector of word counts and put it in a dataframe, so here's a function for that:"
   ]
  },
  {
   "cell_type": "code",
   "execution_count": 33,
   "metadata": {
    "pycharm": {
     "name": "#%%\n"
    }
   },
   "outputs": [],
   "source": [
    "# Turns a text string into a dataframe example (***Note you'll need to change this from 'review' for your own dataset)\n",
    "def createExample(myText):\n",
    "\n",
    "    newExample = np.array([[myText]])\n",
    "    tdf = pd.DataFrame(newExample, columns=[\"a\"])\n",
    "    matrix = vectorizer.transform(tdf['a'])\n",
    "    newDf = pd.DataFrame(matrix.toarray(), columns=vectorizer.get_feature_names_out())\n",
    "    return newDf "
   ]
  },
  {
   "cell_type": "code",
   "execution_count": 34,
   "metadata": {
    "pycharm": {
     "name": "#%%\n"
    }
   },
   "outputs": [
    {
     "data": {
      "text/plain": "   00  000  0001  001  002  003  004  005  006  007  ...  î²  î²actin   \n0   0    0     0    0    0    0    0    0    0    0  ...   0        0  \\\n\n   î²catenin  î³  î³h2ax  îºb  î¼g  î¼gml  î¼l  î¼m  \n0          0   0       0    0    0      0    0    0  \n\n[1 rows x 11203 columns]",
      "text/html": "<div>\n<style scoped>\n    .dataframe tbody tr th:only-of-type {\n        vertical-align: middle;\n    }\n\n    .dataframe tbody tr th {\n        vertical-align: top;\n    }\n\n    .dataframe thead th {\n        text-align: right;\n    }\n</style>\n<table border=\"1\" class=\"dataframe\">\n  <thead>\n    <tr style=\"text-align: right;\">\n      <th></th>\n      <th>00</th>\n      <th>000</th>\n      <th>0001</th>\n      <th>001</th>\n      <th>002</th>\n      <th>003</th>\n      <th>004</th>\n      <th>005</th>\n      <th>006</th>\n      <th>007</th>\n      <th>...</th>\n      <th>î²</th>\n      <th>î²actin</th>\n      <th>î²catenin</th>\n      <th>î³</th>\n      <th>î³h2ax</th>\n      <th>îºb</th>\n      <th>î¼g</th>\n      <th>î¼gml</th>\n      <th>î¼l</th>\n      <th>î¼m</th>\n    </tr>\n  </thead>\n  <tbody>\n    <tr>\n      <th>0</th>\n      <td>0</td>\n      <td>0</td>\n      <td>0</td>\n      <td>0</td>\n      <td>0</td>\n      <td>0</td>\n      <td>0</td>\n      <td>0</td>\n      <td>0</td>\n      <td>0</td>\n      <td>...</td>\n      <td>0</td>\n      <td>0</td>\n      <td>0</td>\n      <td>0</td>\n      <td>0</td>\n      <td>0</td>\n      <td>0</td>\n      <td>0</td>\n      <td>0</td>\n      <td>0</td>\n    </tr>\n  </tbody>\n</table>\n<p>1 rows × 11203 columns</p>\n</div>"
     },
     "execution_count": 34,
     "metadata": {},
     "output_type": "execute_result"
    }
   ],
   "source": [
    "#Here's a text about zombies\n",
    "myText = \"This movie is about zombies zombies zombies\"\n",
    "t = createExample(myText) #When we print the dataframe, you see zombies' word count is 3:\n",
    "t"
   ]
  },
  {
   "cell_type": "code",
   "execution_count": 94,
   "metadata": {
    "scrolled": true,
    "pycharm": {
     "name": "#%%\n"
    }
   },
   "outputs": [
    {
     "name": "stdout",
     "output_type": "stream",
     "text": [
      "1/1 [==============================] - 0s 12ms/step\n"
     ]
    },
    {
     "data": {
      "text/plain": "array([[1.]], dtype=float32)"
     },
     "execution_count": 94,
     "metadata": {},
     "output_type": "execute_result"
    }
   ],
   "source": [
    "#apply the model to classify your new text:\n",
    "model.predict(t)"
   ]
  },
  {
   "cell_type": "markdown",
   "metadata": {
    "pycharm": {
     "name": "#%% md\n"
    }
   },
   "source": [
    "Now try writing some \"great\" and \"terrible\" reviews and see what happens to the classification outputs:"
   ]
  },
  {
   "cell_type": "code",
   "execution_count": 35,
   "metadata": {
    "pycharm": {
     "name": "#%%\n"
    }
   },
   "outputs": [
    {
     "name": "stdout",
     "output_type": "stream",
     "text": [
      "1/1 [==============================] - 0s 10ms/step\n"
     ]
    },
    {
     "data": {
      "text/plain": "array([[1.]], dtype=float32)"
     },
     "execution_count": 35,
     "metadata": {},
     "output_type": "execute_result"
    }
   ],
   "source": [
    "model.predict(createExample(\"This movie is the worst it's terrible horrible\"))"
   ]
  },
  {
   "cell_type": "markdown",
   "metadata": {
    "pycharm": {
     "name": "#%% md\n"
    }
   },
   "source": [
    "## Explore on your own\n",
    "\n",
    "Change the code above to explore:\n",
    "* Does changing the number of neurons in the hidden layer change the results? What happens to accuracy when you use 1 neuron? 100 neurons? \n",
    "* Try editing the neural network so that you have 2 hidden layers of 10 neurons each. What happens to accuracy? \n",
    "\n",
    "Investigating the model\n",
    "* Can you examine the model's performance on the test data to discover anything about what mistakes this model makes? Or anything about what types of reviews are easy to classify accurately?\n",
    "* Can you come up with your own, new examples of positive or negative reviews that illustrate the mistakes the model makes?"
   ]
  },
  {
   "cell_type": "code",
   "execution_count": null,
   "metadata": {
    "pycharm": {
     "name": "#%%\n"
    }
   },
   "outputs": [],
   "source": []
  }
 ],
 "metadata": {
  "colab": {
   "collapsed_sections": [],
   "name": "NLP Week 4.2-Neural network intro.ipynb",
   "provenance": []
  },
  "kernelspec": {
   "display_name": "Python 3 (ipykernel)",
   "language": "python",
   "name": "python3"
  },
  "language_info": {
   "codemirror_mode": {
    "name": "ipython",
    "version": 3
   },
   "file_extension": ".py",
   "mimetype": "text/x-python",
   "name": "python",
   "nbconvert_exporter": "python",
   "pygments_lexer": "ipython3",
   "version": "3.9.16"
  }
 },
 "nbformat": 4,
 "nbformat_minor": 1
}